{
 "cells": [
  {
   "cell_type": "markdown",
   "metadata": {},
   "source": [
    "## Ejercicio 48\n",
    "\n",
    "Si decimos que la ubicación de una página linkeada por otra es el promedio de la\n",
    "latitud y longitud de los contenidos geolocalizados que la referencian: ¿Cuales son\n",
    "las dos páginas que están más lejos? (⭐⭐⭐)"
   ]
  },
  {
   "cell_type": "code",
   "execution_count": 118,
   "metadata": {},
   "outputs": [],
   "source": [
    "import pandas as pd\n",
    "import numpy as np\n",
    "from sklearn.neighbors import NearestNeighbors\n",
    "#Importo random para elegir cualquiera\n",
    "import random as rd"
   ]
  },
  {
   "cell_type": "code",
   "execution_count": 119,
   "metadata": {},
   "outputs": [],
   "source": [
    "geo_tags =  pd.read_csv('geo_tags.csv')\n",
    "page_links = pd.read_csv('pagelinks_sample.csv',\\\n",
    "                       usecols=['pl_from','pl_title'])"
   ]
  },
  {
   "cell_type": "code",
   "execution_count": 120,
   "metadata": {},
   "outputs": [
    {
     "data": {
      "text/plain": [
       "7636249    1480\n",
       "7421943    1424\n",
       "9528315    1407\n",
       "7808354    1396\n",
       "8329856    1394\n",
       "           ... \n",
       "4250460       1\n",
       "72548         1\n",
       "1119077       1\n",
       "3236715       1\n",
       "1048576       1\n",
       "Name: gt_page_id, Length: 371411, dtype: int64"
      ]
     },
     "execution_count": 120,
     "metadata": {},
     "output_type": "execute_result"
    }
   ],
   "source": [
    "geo_tags['gt_page_id'].value_counts()"
   ]
  },
  {
   "cell_type": "code",
   "execution_count": 121,
   "metadata": {},
   "outputs": [
    {
     "data": {
      "text/html": [
       "<div>\n",
       "<style scoped>\n",
       "    .dataframe tbody tr th:only-of-type {\n",
       "        vertical-align: middle;\n",
       "    }\n",
       "\n",
       "    .dataframe tbody tr th {\n",
       "        vertical-align: top;\n",
       "    }\n",
       "\n",
       "    .dataframe thead th {\n",
       "        text-align: right;\n",
       "    }\n",
       "</style>\n",
       "<table border=\"1\" class=\"dataframe\">\n",
       "  <thead>\n",
       "    <tr style=\"text-align: right;\">\n",
       "      <th></th>\n",
       "      <th>pl_from</th>\n",
       "      <th>pl_title</th>\n",
       "    </tr>\n",
       "  </thead>\n",
       "  <tbody>\n",
       "    <tr>\n",
       "      <th>0</th>\n",
       "      <td>4840492</td>\n",
       "      <td>Bandera_cÃ³digo_del_COI_TPE</td>\n",
       "    </tr>\n",
       "    <tr>\n",
       "      <th>1</th>\n",
       "      <td>950948</td>\n",
       "      <td>Esteban_DuÅ¡an</td>\n",
       "    </tr>\n",
       "    <tr>\n",
       "      <th>2</th>\n",
       "      <td>6418187</td>\n",
       "      <td>Insecta</td>\n",
       "    </tr>\n",
       "    <tr>\n",
       "      <th>3</th>\n",
       "      <td>3436623</td>\n",
       "      <td>Pleasure_to_Kill</td>\n",
       "    </tr>\n",
       "    <tr>\n",
       "      <th>4</th>\n",
       "      <td>4713066</td>\n",
       "      <td>DamiÃ¡n_Oliver</td>\n",
       "    </tr>\n",
       "  </tbody>\n",
       "</table>\n",
       "</div>"
      ],
      "text/plain": [
       "   pl_from                     pl_title\n",
       "0  4840492  Bandera_cÃ³digo_del_COI_TPE\n",
       "1   950948               Esteban_DuÅ¡an\n",
       "2  6418187                      Insecta\n",
       "3  3436623             Pleasure_to_Kill\n",
       "4  4713066               DamiÃ¡n_Oliver"
      ]
     },
     "execution_count": 121,
     "metadata": {},
     "output_type": "execute_result"
    }
   ],
   "source": [
    "page_links.head()"
   ]
  },
  {
   "cell_type": "code",
   "execution_count": 122,
   "metadata": {},
   "outputs": [
    {
     "data": {
      "text/plain": [
       "pl_from       0\n",
       "pl_title    104\n",
       "dtype: int64"
      ]
     },
     "execution_count": 122,
     "metadata": {},
     "output_type": "execute_result"
    }
   ],
   "source": [
    "page_links.isnull().sum()"
   ]
  },
  {
   "cell_type": "code",
   "execution_count": 123,
   "metadata": {
    "scrolled": true
   },
   "outputs": [
    {
     "data": {
      "text/plain": [
       "2587499    18831\n",
       "2389056    17495\n",
       "2389124    17349\n",
       "2389118    17344\n",
       "2653364    16609\n",
       "           ...  \n",
       "7096870        1\n",
       "2900519        1\n",
       "7293510        1\n",
       "8568058        1\n",
       "9530785        1\n",
       "Name: pl_from, Length: 6051413, dtype: int64"
      ]
     },
     "execution_count": 123,
     "metadata": {},
     "output_type": "execute_result"
    }
   ],
   "source": [
    "page_links['pl_from'].value_counts()"
   ]
  },
  {
   "cell_type": "code",
   "execution_count": 70,
   "metadata": {
    "scrolled": true
   },
   "outputs": [
    {
     "data": {
      "text/plain": [
       "Zona_de_pruebas                   1131431\n",
       "Wikidata                          1078031\n",
       "Control_de_autoridades            1074385\n",
       "Vandalismo                         922170\n",
       "Contenidos                         577702\n",
       "                                   ...   \n",
       "SamanÃ¡_(municipio_colombiano)          1\n",
       "(209669)_2005_CU56                      1\n",
       "Mimi_Arnold_Wheeler                     1\n",
       "ANALIA_FIORIO                           1\n",
       "(399898)_2005_WA141                     1\n",
       "Name: pl_title, Length: 7934362, dtype: int64"
      ]
     },
     "execution_count": 70,
     "metadata": {},
     "output_type": "execute_result"
    }
   ],
   "source": [
    "page_links['pl_title'].value_counts()"
   ]
  },
  {
   "cell_type": "code",
   "execution_count": 124,
   "metadata": {},
   "outputs": [
    {
     "data": {
      "text/html": [
       "<div>\n",
       "<style scoped>\n",
       "    .dataframe tbody tr th:only-of-type {\n",
       "        vertical-align: middle;\n",
       "    }\n",
       "\n",
       "    .dataframe tbody tr th {\n",
       "        vertical-align: top;\n",
       "    }\n",
       "\n",
       "    .dataframe thead th {\n",
       "        text-align: right;\n",
       "    }\n",
       "</style>\n",
       "<table border=\"1\" class=\"dataframe\">\n",
       "  <thead>\n",
       "    <tr style=\"text-align: right;\">\n",
       "      <th></th>\n",
       "      <th>pl_from</th>\n",
       "      <th>pl_title</th>\n",
       "    </tr>\n",
       "  </thead>\n",
       "  <tbody>\n",
       "    <tr>\n",
       "      <th>7</th>\n",
       "      <td>2393385</td>\n",
       "      <td>Departamentos_de_Francia</td>\n",
       "    </tr>\n",
       "    <tr>\n",
       "      <th>13</th>\n",
       "      <td>1098340</td>\n",
       "      <td>Wikidata</td>\n",
       "    </tr>\n",
       "    <tr>\n",
       "      <th>14</th>\n",
       "      <td>4574984</td>\n",
       "      <td>Localidades_de_Kansas</td>\n",
       "    </tr>\n",
       "    <tr>\n",
       "      <th>15</th>\n",
       "      <td>7034661</td>\n",
       "      <td>Control_de_autoridades</td>\n",
       "    </tr>\n",
       "    <tr>\n",
       "      <th>19</th>\n",
       "      <td>8429023</td>\n",
       "      <td>Dja-et-Lobo</td>\n",
       "    </tr>\n",
       "  </tbody>\n",
       "</table>\n",
       "</div>"
      ],
      "text/plain": [
       "    pl_from                  pl_title\n",
       "7   2393385  Departamentos_de_Francia\n",
       "13  1098340                  Wikidata\n",
       "14  4574984     Localidades_de_Kansas\n",
       "15  7034661    Control_de_autoridades\n",
       "19  8429023               Dja-et-Lobo"
      ]
     },
     "execution_count": 124,
     "metadata": {},
     "output_type": "execute_result"
    }
   ],
   "source": [
    "# Filtro los id que poseen geolocalizacion\n",
    "geo_redirect_data = page_links.loc[page_links['pl_from'].isin(geo_tags['gt_page_id'])]\n",
    "geo_redirect_data.head()"
   ]
  },
  {
   "cell_type": "code",
   "execution_count": 125,
   "metadata": {},
   "outputs": [
    {
     "data": {
      "text/plain": [
       "(10385689, 2)"
      ]
     },
     "execution_count": 125,
     "metadata": {},
     "output_type": "execute_result"
    }
   ],
   "source": [
    "geo_redirect_data.shape"
   ]
  },
  {
   "cell_type": "code",
   "execution_count": 85,
   "metadata": {},
   "outputs": [
    {
     "data": {
      "text/html": [
       "<div>\n",
       "<style scoped>\n",
       "    .dataframe tbody tr th:only-of-type {\n",
       "        vertical-align: middle;\n",
       "    }\n",
       "\n",
       "    .dataframe tbody tr th {\n",
       "        vertical-align: top;\n",
       "    }\n",
       "\n",
       "    .dataframe thead th {\n",
       "        text-align: right;\n",
       "    }\n",
       "</style>\n",
       "<table border=\"1\" class=\"dataframe\">\n",
       "  <thead>\n",
       "    <tr style=\"text-align: right;\">\n",
       "      <th></th>\n",
       "      <th>gt_id</th>\n",
       "      <th>gt_page_id</th>\n",
       "      <th>gt_globe</th>\n",
       "      <th>gt_primary</th>\n",
       "      <th>gt_lat</th>\n",
       "      <th>gt_lon</th>\n",
       "      <th>gt_dim</th>\n",
       "      <th>gt_type</th>\n",
       "      <th>gt_name</th>\n",
       "      <th>gt_country</th>\n",
       "      <th>gt_region</th>\n",
       "    </tr>\n",
       "  </thead>\n",
       "  <tbody>\n",
       "    <tr>\n",
       "      <th>0</th>\n",
       "      <td>158041</td>\n",
       "      <td>4328020</td>\n",
       "      <td>earth</td>\n",
       "      <td>0</td>\n",
       "      <td>41.5075</td>\n",
       "      <td>-5.8175</td>\n",
       "      <td>1000</td>\n",
       "      <td>NaN</td>\n",
       "      <td>NaN</td>\n",
       "      <td>NaN</td>\n",
       "      <td>NaN</td>\n",
       "    </tr>\n",
       "    <tr>\n",
       "      <th>1</th>\n",
       "      <td>5844377</td>\n",
       "      <td>4670424</td>\n",
       "      <td>earth</td>\n",
       "      <td>0</td>\n",
       "      <td>13.7380</td>\n",
       "      <td>-89.2920</td>\n",
       "      <td>10000</td>\n",
       "      <td>city</td>\n",
       "      <td>NaN</td>\n",
       "      <td>NaN</td>\n",
       "      <td>NaN</td>\n",
       "    </tr>\n",
       "    <tr>\n",
       "      <th>2</th>\n",
       "      <td>5844381</td>\n",
       "      <td>4670424</td>\n",
       "      <td>earth</td>\n",
       "      <td>0</td>\n",
       "      <td>13.7020</td>\n",
       "      <td>-89.2080</td>\n",
       "      <td>10000</td>\n",
       "      <td>city</td>\n",
       "      <td>NaN</td>\n",
       "      <td>NaN</td>\n",
       "      <td>NaN</td>\n",
       "    </tr>\n",
       "    <tr>\n",
       "      <th>3</th>\n",
       "      <td>5844383</td>\n",
       "      <td>4670424</td>\n",
       "      <td>earth</td>\n",
       "      <td>0</td>\n",
       "      <td>13.4000</td>\n",
       "      <td>-89.7500</td>\n",
       "      <td>10000</td>\n",
       "      <td>city</td>\n",
       "      <td>NaN</td>\n",
       "      <td>NaN</td>\n",
       "      <td>NaN</td>\n",
       "    </tr>\n",
       "    <tr>\n",
       "      <th>4</th>\n",
       "      <td>5844388</td>\n",
       "      <td>4670424</td>\n",
       "      <td>earth</td>\n",
       "      <td>0</td>\n",
       "      <td>12.8500</td>\n",
       "      <td>-88.0000</td>\n",
       "      <td>10000</td>\n",
       "      <td>city</td>\n",
       "      <td>NaN</td>\n",
       "      <td>NaN</td>\n",
       "      <td>NaN</td>\n",
       "    </tr>\n",
       "  </tbody>\n",
       "</table>\n",
       "</div>"
      ],
      "text/plain": [
       "     gt_id  gt_page_id gt_globe  gt_primary   gt_lat   gt_lon  gt_dim gt_type  \\\n",
       "0   158041     4328020    earth           0  41.5075  -5.8175    1000     NaN   \n",
       "1  5844377     4670424    earth           0  13.7380 -89.2920   10000    city   \n",
       "2  5844381     4670424    earth           0  13.7020 -89.2080   10000    city   \n",
       "3  5844383     4670424    earth           0  13.4000 -89.7500   10000    city   \n",
       "4  5844388     4670424    earth           0  12.8500 -88.0000   10000    city   \n",
       "\n",
       "  gt_name gt_country gt_region  \n",
       "0     NaN        NaN       NaN  \n",
       "1     NaN        NaN       NaN  \n",
       "2     NaN        NaN       NaN  \n",
       "3     NaN        NaN       NaN  \n",
       "4     NaN        NaN       NaN  "
      ]
     },
     "execution_count": 85,
     "metadata": {},
     "output_type": "execute_result"
    }
   ],
   "source": [
    "geo_tags.head()"
   ]
  },
  {
   "cell_type": "code",
   "execution_count": 126,
   "metadata": {},
   "outputs": [
    {
     "name": "stderr",
     "output_type": "stream",
     "text": [
      "C:\\Users\\alejo\\anaconda3\\lib\\site-packages\\pandas\\core\\frame.py:4125: SettingWithCopyWarning: \n",
      "A value is trying to be set on a copy of a slice from a DataFrame\n",
      "\n",
      "See the caveats in the documentation: https://pandas.pydata.org/pandas-docs/stable/user_guide/indexing.html#returning-a-view-versus-a-copy\n",
      "  return super().rename(\n"
     ]
    }
   ],
   "source": [
    "geo_redirect_data.rename(columns={'pl_from':'id'},inplace=True)\n",
    "geo_tags = geo_tags[['gt_page_id','gt_lat','gt_lon']]\n",
    "geo_tags.rename(columns={'gt_page_id':'id'},inplace=True)"
   ]
  },
  {
   "cell_type": "code",
   "execution_count": 127,
   "metadata": {},
   "outputs": [
    {
     "data": {
      "text/html": [
       "<div>\n",
       "<style scoped>\n",
       "    .dataframe tbody tr th:only-of-type {\n",
       "        vertical-align: middle;\n",
       "    }\n",
       "\n",
       "    .dataframe tbody tr th {\n",
       "        vertical-align: top;\n",
       "    }\n",
       "\n",
       "    .dataframe thead th {\n",
       "        text-align: right;\n",
       "    }\n",
       "</style>\n",
       "<table border=\"1\" class=\"dataframe\">\n",
       "  <thead>\n",
       "    <tr style=\"text-align: right;\">\n",
       "      <th></th>\n",
       "      <th>id</th>\n",
       "      <th>pl_title</th>\n",
       "      <th>gt_lat</th>\n",
       "      <th>gt_lon</th>\n",
       "    </tr>\n",
       "  </thead>\n",
       "  <tbody>\n",
       "    <tr>\n",
       "      <th>0</th>\n",
       "      <td>2393385</td>\n",
       "      <td>Departamentos_de_Francia</td>\n",
       "      <td>46.313333</td>\n",
       "      <td>5.548889</td>\n",
       "    </tr>\n",
       "    <tr>\n",
       "      <th>1</th>\n",
       "      <td>2393385</td>\n",
       "      <td>Mapa_de_localizaciÃ³n_de_Francia</td>\n",
       "      <td>46.313333</td>\n",
       "      <td>5.548889</td>\n",
       "    </tr>\n",
       "    <tr>\n",
       "      <th>2</th>\n",
       "      <td>2393385</td>\n",
       "      <td>CÃ³digo_INSEE</td>\n",
       "      <td>46.313333</td>\n",
       "      <td>5.548889</td>\n",
       "    </tr>\n",
       "    <tr>\n",
       "      <th>3</th>\n",
       "      <td>2393385</td>\n",
       "      <td>CET</td>\n",
       "      <td>46.313333</td>\n",
       "      <td>5.548889</td>\n",
       "    </tr>\n",
       "    <tr>\n",
       "      <th>4</th>\n",
       "      <td>2393385</td>\n",
       "      <td>Distrito_de_Lons-le-Saunier</td>\n",
       "      <td>46.313333</td>\n",
       "      <td>5.548889</td>\n",
       "    </tr>\n",
       "  </tbody>\n",
       "</table>\n",
       "</div>"
      ],
      "text/plain": [
       "        id                          pl_title     gt_lat    gt_lon\n",
       "0  2393385          Departamentos_de_Francia  46.313333  5.548889\n",
       "1  2393385  Mapa_de_localizaciÃ³n_de_Francia  46.313333  5.548889\n",
       "2  2393385                     CÃ³digo_INSEE  46.313333  5.548889\n",
       "3  2393385                               CET  46.313333  5.548889\n",
       "4  2393385       Distrito_de_Lons-le-Saunier  46.313333  5.548889"
      ]
     },
     "execution_count": 127,
     "metadata": {},
     "output_type": "execute_result"
    }
   ],
   "source": [
    "merge_data = geo_redirect_data.merge(geo_tags,on='id')\n",
    "merge_data.head()"
   ]
  },
  {
   "cell_type": "code",
   "execution_count": 128,
   "metadata": {},
   "outputs": [
    {
     "data": {
      "text/plain": [
       "id          0\n",
       "pl_title    2\n",
       "gt_lat      0\n",
       "gt_lon      0\n",
       "dtype: int64"
      ]
     },
     "execution_count": 128,
     "metadata": {},
     "output_type": "execute_result"
    }
   ],
   "source": [
    "merge_data.isnull().sum()"
   ]
  },
  {
   "cell_type": "code",
   "execution_count": 129,
   "metadata": {},
   "outputs": [],
   "source": [
    "merge_data.dropna(inplace=True)"
   ]
  },
  {
   "cell_type": "code",
   "execution_count": 130,
   "metadata": {},
   "outputs": [
    {
     "data": {
      "text/plain": [
       "id          0\n",
       "pl_title    0\n",
       "gt_lat      0\n",
       "gt_lon      0\n",
       "dtype: int64"
      ]
     },
     "execution_count": 130,
     "metadata": {},
     "output_type": "execute_result"
    }
   ],
   "source": [
    "merge_data.isnull().sum()"
   ]
  },
  {
   "cell_type": "code",
   "execution_count": 131,
   "metadata": {},
   "outputs": [
    {
     "name": "stdout",
     "output_type": "stream",
     "text": [
      "<class 'pandas.core.frame.DataFrame'>\n",
      "Int64Index: 48442410 entries, 0 to 48442411\n",
      "Data columns (total 4 columns):\n",
      " #   Column    Dtype  \n",
      "---  ------    -----  \n",
      " 0   id        int64  \n",
      " 1   pl_title  object \n",
      " 2   gt_lat    float64\n",
      " 3   gt_lon    float64\n",
      "dtypes: float64(2), int64(1), object(1)\n",
      "memory usage: 1.8+ GB\n"
     ]
    }
   ],
   "source": [
    "merge_data.info()"
   ]
  },
  {
   "cell_type": "code",
   "execution_count": 134,
   "metadata": {},
   "outputs": [],
   "source": [
    "merge_data['pl_title'] = merge_data['pl_title'].astype(str)"
   ]
  },
  {
   "cell_type": "code",
   "execution_count": 135,
   "metadata": {},
   "outputs": [
    {
     "data": {
      "text/html": [
       "<div>\n",
       "<style scoped>\n",
       "    .dataframe tbody tr th:only-of-type {\n",
       "        vertical-align: middle;\n",
       "    }\n",
       "\n",
       "    .dataframe tbody tr th {\n",
       "        vertical-align: top;\n",
       "    }\n",
       "\n",
       "    .dataframe thead th {\n",
       "        text-align: right;\n",
       "    }\n",
       "</style>\n",
       "<table border=\"1\" class=\"dataframe\">\n",
       "  <thead>\n",
       "    <tr style=\"text-align: right;\">\n",
       "      <th></th>\n",
       "      <th>id</th>\n",
       "      <th>pl_title</th>\n",
       "      <th>gt_lat</th>\n",
       "      <th>gt_lon</th>\n",
       "    </tr>\n",
       "  </thead>\n",
       "  <tbody>\n",
       "    <tr>\n",
       "      <th>0</th>\n",
       "      <td>2393385</td>\n",
       "      <td>Departamentos_de_Francia</td>\n",
       "      <td>46.313333</td>\n",
       "      <td>5.548889</td>\n",
       "    </tr>\n",
       "    <tr>\n",
       "      <th>1</th>\n",
       "      <td>2393385</td>\n",
       "      <td>Mapa_de_localizaciÃ³n_de_Francia</td>\n",
       "      <td>46.313333</td>\n",
       "      <td>5.548889</td>\n",
       "    </tr>\n",
       "    <tr>\n",
       "      <th>2</th>\n",
       "      <td>2393385</td>\n",
       "      <td>CÃ³digo_INSEE</td>\n",
       "      <td>46.313333</td>\n",
       "      <td>5.548889</td>\n",
       "    </tr>\n",
       "    <tr>\n",
       "      <th>4</th>\n",
       "      <td>2393385</td>\n",
       "      <td>Distrito_de_Lons-le-Saunier</td>\n",
       "      <td>46.313333</td>\n",
       "      <td>5.548889</td>\n",
       "    </tr>\n",
       "    <tr>\n",
       "      <th>5</th>\n",
       "      <td>2393385</td>\n",
       "      <td>CommunautÃ©_de_communes_de_Valous'Ain</td>\n",
       "      <td>46.313333</td>\n",
       "      <td>5.548889</td>\n",
       "    </tr>\n",
       "    <tr>\n",
       "      <th>...</th>\n",
       "      <td>...</td>\n",
       "      <td>...</td>\n",
       "      <td>...</td>\n",
       "      <td>...</td>\n",
       "    </tr>\n",
       "    <tr>\n",
       "      <th>48442405</th>\n",
       "      <td>9412557</td>\n",
       "      <td>ParanÃ¡_(Argentina)</td>\n",
       "      <td>-31.740603</td>\n",
       "      <td>-60.523258</td>\n",
       "    </tr>\n",
       "    <tr>\n",
       "      <th>48442407</th>\n",
       "      <td>6952000</td>\n",
       "      <td>Wikidata</td>\n",
       "      <td>50.600000</td>\n",
       "      <td>37.300000</td>\n",
       "    </tr>\n",
       "    <tr>\n",
       "      <th>48442408</th>\n",
       "      <td>6952000</td>\n",
       "      <td>Coordenadas_geogrÃ¡ficas</td>\n",
       "      <td>50.600000</td>\n",
       "      <td>37.300000</td>\n",
       "    </tr>\n",
       "    <tr>\n",
       "      <th>48442410</th>\n",
       "      <td>7842764</td>\n",
       "      <td>CÃ³digos_de_observatorios_astronÃ³micos</td>\n",
       "      <td>35.202778</td>\n",
       "      <td>-111.664444</td>\n",
       "    </tr>\n",
       "    <tr>\n",
       "      <th>48442411</th>\n",
       "      <td>1088977</td>\n",
       "      <td>Wikidata</td>\n",
       "      <td>-40.803056</td>\n",
       "      <td>-71.596111</td>\n",
       "    </tr>\n",
       "  </tbody>\n",
       "</table>\n",
       "<p>44898066 rows × 4 columns</p>\n",
       "</div>"
      ],
      "text/plain": [
       "               id                                 pl_title     gt_lat  \\\n",
       "0         2393385                 Departamentos_de_Francia  46.313333   \n",
       "1         2393385         Mapa_de_localizaciÃ³n_de_Francia  46.313333   \n",
       "2         2393385                            CÃ³digo_INSEE  46.313333   \n",
       "4         2393385              Distrito_de_Lons-le-Saunier  46.313333   \n",
       "5         2393385    CommunautÃ©_de_communes_de_Valous'Ain  46.313333   \n",
       "...           ...                                      ...        ...   \n",
       "48442405  9412557                      ParanÃ¡_(Argentina) -31.740603   \n",
       "48442407  6952000                                 Wikidata  50.600000   \n",
       "48442408  6952000                 Coordenadas_geogrÃ¡ficas  50.600000   \n",
       "48442410  7842764  CÃ³digos_de_observatorios_astronÃ³micos  35.202778   \n",
       "48442411  1088977                                 Wikidata -40.803056   \n",
       "\n",
       "              gt_lon  \n",
       "0           5.548889  \n",
       "1           5.548889  \n",
       "2           5.548889  \n",
       "4           5.548889  \n",
       "5           5.548889  \n",
       "...              ...  \n",
       "48442405  -60.523258  \n",
       "48442407   37.300000  \n",
       "48442408   37.300000  \n",
       "48442410 -111.664444  \n",
       "48442411  -71.596111  \n",
       "\n",
       "[44898066 rows x 4 columns]"
      ]
     },
     "execution_count": 135,
     "metadata": {},
     "output_type": "execute_result"
    }
   ],
   "source": [
    "reduced_merge_data = merge_data.loc[merge_data['pl_title'].str.len() > 6]\n",
    "reduced_merge_data"
   ]
  },
  {
   "cell_type": "code",
   "execution_count": 136,
   "metadata": {},
   "outputs": [
    {
     "data": {
      "text/html": [
       "<div>\n",
       "<style scoped>\n",
       "    .dataframe tbody tr th:only-of-type {\n",
       "        vertical-align: middle;\n",
       "    }\n",
       "\n",
       "    .dataframe tbody tr th {\n",
       "        vertical-align: top;\n",
       "    }\n",
       "\n",
       "    .dataframe thead th {\n",
       "        text-align: right;\n",
       "    }\n",
       "</style>\n",
       "<table border=\"1\" class=\"dataframe\">\n",
       "  <thead>\n",
       "    <tr style=\"text-align: right;\">\n",
       "      <th></th>\n",
       "      <th>gt_lat</th>\n",
       "      <th>gt_lon</th>\n",
       "    </tr>\n",
       "    <tr>\n",
       "      <th>pl_title</th>\n",
       "      <th></th>\n",
       "      <th></th>\n",
       "    </tr>\n",
       "  </thead>\n",
       "  <tbody>\n",
       "    <tr>\n",
       "      <th>\"El_don_de_la_ResurrecciÃ³n\".</th>\n",
       "      <td>19.484444</td>\n",
       "      <td>-99.117222</td>\n",
       "    </tr>\n",
       "    <tr>\n",
       "      <th>\"El_embarcadero\"</th>\n",
       "      <td>39.309722</td>\n",
       "      <td>-0.318333</td>\n",
       "    </tr>\n",
       "    <tr>\n",
       "      <th>\"Ficha_de_persona\"</th>\n",
       "      <td>41.650000</td>\n",
       "      <td>-0.883333</td>\n",
       "    </tr>\n",
       "    <tr>\n",
       "      <th>\"Guia_de_Arquitectura_de_Valencia\"_CTAV</th>\n",
       "      <td>39.470978</td>\n",
       "      <td>-0.376303</td>\n",
       "    </tr>\n",
       "    <tr>\n",
       "      <th>\"La_Barraca\"</th>\n",
       "      <td>39.309722</td>\n",
       "      <td>-0.318333</td>\n",
       "    </tr>\n",
       "    <tr>\n",
       "      <th>...</th>\n",
       "      <td>...</td>\n",
       "      <td>...</td>\n",
       "    </tr>\n",
       "    <tr>\n",
       "      <th>é¢æ åº</th>\n",
       "      <td>25.038944</td>\n",
       "      <td>121.516328</td>\n",
       "    </tr>\n",
       "    <tr>\n",
       "      <th>é§æ¥ãµã¦ã¸ã¢ã©ãã¢çå½å¤§ä½¿é¤¨</th>\n",
       "      <td>35.625759</td>\n",
       "      <td>139.341531</td>\n",
       "    </tr>\n",
       "    <tr>\n",
       "      <th>é«è½ç©çç ç©¶æç½</th>\n",
       "      <td>56.746423</td>\n",
       "      <td>37.189268</td>\n",
       "    </tr>\n",
       "    <tr>\n",
       "      <th>é­éæ</th>\n",
       "      <td>25.038944</td>\n",
       "      <td>121.516328</td>\n",
       "    </tr>\n",
       "    <tr>\n",
       "      <th>íë´ë©´</th>\n",
       "      <td>38.568083</td>\n",
       "      <td>128.389000</td>\n",
       "    </tr>\n",
       "  </tbody>\n",
       "</table>\n",
       "<p>1181639 rows × 2 columns</p>\n",
       "</div>"
      ],
      "text/plain": [
       "                                               gt_lat      gt_lon\n",
       "pl_title                                                         \n",
       "\"El_don_de_la_ResurrecciÃ³n\".               19.484444  -99.117222\n",
       "\"El_embarcadero\"                            39.309722   -0.318333\n",
       "\"Ficha_de_persona\"                          41.650000   -0.883333\n",
       "\"Guia_de_Arquitectura_de_Valencia\"_CTAV     39.470978   -0.376303\n",
       "\"La_Barraca\"                                39.309722   -0.318333\n",
       "...                                               ...         ...\n",
       "é¢æ åº                                   25.038944  121.516328\n",
       "é§æ¥ãµã¦ã¸ã¢ã©ãã¢çå½å¤§ä½¿é¤¨  35.625759  139.341531\n",
       "é«è½ç©çç ç©¶æç½                    56.746423   37.189268\n",
       "é­éæ                                   25.038944  121.516328\n",
       "íë´ë©´                                   38.568083  128.389000\n",
       "\n",
       "[1181639 rows x 2 columns]"
      ]
     },
     "execution_count": 136,
     "metadata": {},
     "output_type": "execute_result"
    }
   ],
   "source": [
    "grouped = reduced_merge_data.groupby(['pl_title']).agg({'gt_lat':'mean','gt_lon':'mean'})\n",
    "grouped"
   ]
  },
  {
   "cell_type": "code",
   "execution_count": 145,
   "metadata": {},
   "outputs": [
    {
     "data": {
      "text/plain": [
       "array([[ 19.484444  , -99.117222  ],\n",
       "       [ 39.30972222,  -0.31833333],\n",
       "       [ 41.65      ,  -0.88333333],\n",
       "       ...,\n",
       "       [ 56.746423  ,  37.189268  ],\n",
       "       [ 25.038944  , 121.516328  ],\n",
       "       [ 38.56808333, 128.389     ]])"
      ]
     },
     "execution_count": 145,
     "metadata": {},
     "output_type": "execute_result"
    }
   ],
   "source": [
    "coordenates = grouped[['gt_lat','gt_lon']].values\n",
    "coordenates"
   ]
  },
  {
   "cell_type": "code",
   "execution_count": 148,
   "metadata": {},
   "outputs": [],
   "source": [
    "naam = NearestNeighbors(n_neighbors=2, algorithm='kd_tree').fit(coordenates)\n",
    "distances, indices = naam.kneighbors(coordenates)"
   ]
  },
  {
   "cell_type": "code",
   "execution_count": 219,
   "metadata": {},
   "outputs": [
    {
     "data": {
      "text/plain": [
       "(array([      0,       1,       2, ..., 1181636, 1181637, 1181638],\n",
       "       dtype=int64),)"
      ]
     },
     "execution_count": 219,
     "metadata": {},
     "output_type": "execute_result"
    }
   ],
   "source": [
    "i = np.where(distances[:,1].flatten() ==  np.amin(distances[:,1].flatten()))\n",
    "i"
   ]
  },
  {
   "cell_type": "code",
   "execution_count": 220,
   "metadata": {},
   "outputs": [
    {
     "data": {
      "text/plain": [
       "array([[ 683750,  684095],\n",
       "       [      4,       1],\n",
       "       [ 207684, 1171079],\n",
       "       ...,\n",
       "       [ 452111, 1181636],\n",
       "       [1181624, 1181595],\n",
       "       [1181638,  262080]], dtype=int64)"
      ]
     },
     "execution_count": 220,
     "metadata": {},
     "output_type": "execute_result"
    }
   ],
   "source": [
    "indices[i]"
   ]
  },
  {
   "cell_type": "code",
   "execution_count": 221,
   "metadata": {},
   "outputs": [],
   "source": [
    "#Importo random para elegir cualquiera\n",
    "import random as rd"
   ]
  },
  {
   "cell_type": "code",
   "execution_count": 230,
   "metadata": {},
   "outputs": [
    {
     "data": {
      "text/html": [
       "<div>\n",
       "<style scoped>\n",
       "    .dataframe tbody tr th:only-of-type {\n",
       "        vertical-align: middle;\n",
       "    }\n",
       "\n",
       "    .dataframe tbody tr th {\n",
       "        vertical-align: top;\n",
       "    }\n",
       "\n",
       "    .dataframe thead th {\n",
       "        text-align: right;\n",
       "    }\n",
       "</style>\n",
       "<table border=\"1\" class=\"dataframe\">\n",
       "  <thead>\n",
       "    <tr style=\"text-align: right;\">\n",
       "      <th></th>\n",
       "      <th>gt_lat</th>\n",
       "      <th>gt_lon</th>\n",
       "    </tr>\n",
       "    <tr>\n",
       "      <th>pl_title</th>\n",
       "      <th></th>\n",
       "      <th></th>\n",
       "    </tr>\n",
       "  </thead>\n",
       "  <tbody>\n",
       "    <tr>\n",
       "      <th>Museo_de_Port_Louis</th>\n",
       "      <td>-20.166667</td>\n",
       "      <td>57.5</td>\n",
       "    </tr>\n",
       "    <tr>\n",
       "      <th>Fiscal_General</th>\n",
       "      <td>-20.166667</td>\n",
       "      <td>57.5</td>\n",
       "    </tr>\n",
       "  </tbody>\n",
       "</table>\n",
       "</div>"
      ],
      "text/plain": [
       "                        gt_lat  gt_lon\n",
       "pl_title                              \n",
       "Museo_de_Port_Louis -20.166667    57.5\n",
       "Fiscal_General      -20.166667    57.5"
      ]
     },
     "execution_count": 230,
     "metadata": {},
     "output_type": "execute_result"
    }
   ],
   "source": [
    "ran = rd.randint(0,len(i[0]))\n",
    "# Los dos mas cercanos seran\n",
    "grouped.iloc[indices[ran]]"
   ]
  }
 ],
 "metadata": {
  "kernelspec": {
   "display_name": "Python 3",
   "language": "python",
   "name": "python3"
  },
  "language_info": {
   "codemirror_mode": {
    "name": "ipython",
    "version": 3
   },
   "file_extension": ".py",
   "mimetype": "text/x-python",
   "name": "python",
   "nbconvert_exporter": "python",
   "pygments_lexer": "ipython3",
   "version": "3.8.3"
  }
 },
 "nbformat": 4,
 "nbformat_minor": 4
}
