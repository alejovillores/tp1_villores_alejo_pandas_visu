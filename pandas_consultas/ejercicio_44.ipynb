{
 "cells": [
  {
   "cell_type": "markdown",
   "metadata": {},
   "source": [
    "## Ejercicio 44\n",
    "Si decimos que la ubicación de un usuario es el promedio de la latitud y longitud de\n",
    "los contenidos geolocalizados para los cuales editó la última versión (ignorar\n",
    "usuarios que no editaron contenido geolocalizado). ¿Cuáles son los dos usuarios\n",
    "más cercanos? (⭐⭐⭐)"
   ]
  },
  {
   "cell_type": "code",
   "execution_count": 1,
   "metadata": {},
   "outputs": [],
   "source": [
    "import pandas as pd\n",
    "import numpy as np\n",
    "from sklearn.neighbors import NearestNeighbors"
   ]
  },
  {
   "cell_type": "code",
   "execution_count": 2,
   "metadata": {},
   "outputs": [],
   "source": [
    "geo_tags =  pd.read_csv('geo_tags.csv')"
   ]
  },
  {
   "cell_type": "code",
   "execution_count": 8,
   "metadata": {},
   "outputs": [],
   "source": [
    "contents = pd.read_csv('contents.csv')"
   ]
  },
  {
   "cell_type": "code",
   "execution_count": 4,
   "metadata": {},
   "outputs": [
    {
     "name": "stdout",
     "output_type": "stream",
     "text": [
      "<class 'pandas.core.frame.DataFrame'>\n",
      "RangeIndex: 556393 entries, 0 to 556392\n",
      "Data columns (total 11 columns):\n",
      " #   Column      Non-Null Count   Dtype  \n",
      "---  ------      --------------   -----  \n",
      " 0   gt_id       556393 non-null  int64  \n",
      " 1   gt_page_id  556393 non-null  int64  \n",
      " 2   gt_globe    556393 non-null  object \n",
      " 3   gt_primary  556393 non-null  int64  \n",
      " 4   gt_lat      556393 non-null  float64\n",
      " 5   gt_lon      556393 non-null  float64\n",
      " 6   gt_dim      556393 non-null  int64  \n",
      " 7   gt_type     449893 non-null  object \n",
      " 8   gt_name     72557 non-null   object \n",
      " 9   gt_country  79192 non-null   object \n",
      " 10  gt_region   3088 non-null    object \n",
      "dtypes: float64(2), int64(4), object(5)\n",
      "memory usage: 46.7+ MB\n"
     ]
    }
   ],
   "source": [
    "geo_tags.info()"
   ]
  },
  {
   "cell_type": "code",
   "execution_count": 9,
   "metadata": {},
   "outputs": [
    {
     "name": "stdout",
     "output_type": "stream",
     "text": [
      "<class 'pandas.core.frame.DataFrame'>\n",
      "RangeIndex: 4132164 entries, 0 to 4132163\n",
      "Data columns (total 10 columns):\n",
      " #   Column              Dtype  \n",
      "---  ------              -----  \n",
      " 0   title               object \n",
      " 1   id                  int64  \n",
      " 2   namespace           int64  \n",
      " 3   revision_id         int64  \n",
      " 4   parent_revision     float64\n",
      " 5   revision_timestamp  object \n",
      " 6   revisor_username    object \n",
      " 7   revisor_id          float64\n",
      " 8   revisor_ip          object \n",
      " 9   revisor_comment     object \n",
      "dtypes: float64(2), int64(3), object(5)\n",
      "memory usage: 315.3+ MB\n"
     ]
    }
   ],
   "source": [
    "contents.info()"
   ]
  },
  {
   "cell_type": "code",
   "execution_count": 10,
   "metadata": {},
   "outputs": [
    {
     "data": {
      "text/html": [
       "<div>\n",
       "<style scoped>\n",
       "    .dataframe tbody tr th:only-of-type {\n",
       "        vertical-align: middle;\n",
       "    }\n",
       "\n",
       "    .dataframe tbody tr th {\n",
       "        vertical-align: top;\n",
       "    }\n",
       "\n",
       "    .dataframe thead th {\n",
       "        text-align: right;\n",
       "    }\n",
       "</style>\n",
       "<table border=\"1\" class=\"dataframe\">\n",
       "  <thead>\n",
       "    <tr style=\"text-align: right;\">\n",
       "      <th></th>\n",
       "      <th>title</th>\n",
       "      <th>id</th>\n",
       "      <th>namespace</th>\n",
       "      <th>revision_id</th>\n",
       "      <th>parent_revision</th>\n",
       "      <th>revision_timestamp</th>\n",
       "      <th>revisor_username</th>\n",
       "      <th>revisor_id</th>\n",
       "      <th>revisor_ip</th>\n",
       "      <th>revisor_comment</th>\n",
       "    </tr>\n",
       "  </thead>\n",
       "  <tbody>\n",
       "    <tr>\n",
       "      <th>0</th>\n",
       "      <td>Wikipedia:Artículos solicitados</td>\n",
       "      <td>5</td>\n",
       "      <td>4</td>\n",
       "      <td>132533307</td>\n",
       "      <td>132516631.0</td>\n",
       "      <td>2021-01-19T18:40:34Z</td>\n",
       "      <td>Metrónomo</td>\n",
       "      <td>1708233.0</td>\n",
       "      <td>NaN</td>\n",
       "      <td>Así esta mejor</td>\n",
       "    </tr>\n",
       "    <tr>\n",
       "      <th>1</th>\n",
       "      <td>Andorra</td>\n",
       "      <td>7</td>\n",
       "      <td>0</td>\n",
       "      <td>138035057</td>\n",
       "      <td>138027475.0</td>\n",
       "      <td>2021-08-31T18:27:01Z</td>\n",
       "      <td>NaN</td>\n",
       "      <td>NaN</td>\n",
       "      <td>2800:CD0:FC1B:A900:C5A4:9E81:7175:2ED2</td>\n",
       "      <td>Añadir contenido</td>\n",
       "    </tr>\n",
       "    <tr>\n",
       "      <th>2</th>\n",
       "      <td>Argentina</td>\n",
       "      <td>10</td>\n",
       "      <td>0</td>\n",
       "      <td>137966826</td>\n",
       "      <td>137825165.0</td>\n",
       "      <td>2021-08-28T17:17:54Z</td>\n",
       "      <td>Traitrich</td>\n",
       "      <td>4642283.0</td>\n",
       "      <td>NaN</td>\n",
       "      <td>Reemplazos con [[Usuario:Benjavalero/Replacer|...</td>\n",
       "    </tr>\n",
       "    <tr>\n",
       "      <th>3</th>\n",
       "      <td>Geografía de Andorra</td>\n",
       "      <td>15</td>\n",
       "      <td>0</td>\n",
       "      <td>137986788</td>\n",
       "      <td>133666383.0</td>\n",
       "      <td>2021-08-29T17:16:00Z</td>\n",
       "      <td>Lojwe</td>\n",
       "      <td>5338508.0</td>\n",
       "      <td>NaN</td>\n",
       "      <td>Reemplazos con [[Usuario:Benjavalero/Replacer|...</td>\n",
       "    </tr>\n",
       "    <tr>\n",
       "      <th>4</th>\n",
       "      <td>Demografía de Andorra</td>\n",
       "      <td>17</td>\n",
       "      <td>0</td>\n",
       "      <td>130869554</td>\n",
       "      <td>129413188.0</td>\n",
       "      <td>2020-11-12T19:56:15Z</td>\n",
       "      <td>Jialxv</td>\n",
       "      <td>3615366.0</td>\n",
       "      <td>NaN</td>\n",
       "      <td>Correcciones ortográficas con [[Usuario:Benjav...</td>\n",
       "    </tr>\n",
       "  </tbody>\n",
       "</table>\n",
       "</div>"
      ],
      "text/plain": [
       "                             title  id  namespace  revision_id  \\\n",
       "0  Wikipedia:Artículos solicitados   5          4    132533307   \n",
       "1                          Andorra   7          0    138035057   \n",
       "2                        Argentina  10          0    137966826   \n",
       "3             Geografía de Andorra  15          0    137986788   \n",
       "4            Demografía de Andorra  17          0    130869554   \n",
       "\n",
       "   parent_revision    revision_timestamp revisor_username  revisor_id  \\\n",
       "0      132516631.0  2021-01-19T18:40:34Z        Metrónomo   1708233.0   \n",
       "1      138027475.0  2021-08-31T18:27:01Z              NaN         NaN   \n",
       "2      137825165.0  2021-08-28T17:17:54Z        Traitrich   4642283.0   \n",
       "3      133666383.0  2021-08-29T17:16:00Z            Lojwe   5338508.0   \n",
       "4      129413188.0  2020-11-12T19:56:15Z           Jialxv   3615366.0   \n",
       "\n",
       "                               revisor_ip  \\\n",
       "0                                     NaN   \n",
       "1  2800:CD0:FC1B:A900:C5A4:9E81:7175:2ED2   \n",
       "2                                     NaN   \n",
       "3                                     NaN   \n",
       "4                                     NaN   \n",
       "\n",
       "                                     revisor_comment  \n",
       "0                                     Así esta mejor  \n",
       "1                                   Añadir contenido  \n",
       "2  Reemplazos con [[Usuario:Benjavalero/Replacer|...  \n",
       "3  Reemplazos con [[Usuario:Benjavalero/Replacer|...  \n",
       "4  Correcciones ortográficas con [[Usuario:Benjav...  "
      ]
     },
     "execution_count": 10,
     "metadata": {},
     "output_type": "execute_result"
    }
   ],
   "source": [
    "contents.head()"
   ]
  },
  {
   "cell_type": "code",
   "execution_count": 11,
   "metadata": {},
   "outputs": [
    {
     "data": {
      "text/html": [
       "<div>\n",
       "<style scoped>\n",
       "    .dataframe tbody tr th:only-of-type {\n",
       "        vertical-align: middle;\n",
       "    }\n",
       "\n",
       "    .dataframe tbody tr th {\n",
       "        vertical-align: top;\n",
       "    }\n",
       "\n",
       "    .dataframe thead th {\n",
       "        text-align: right;\n",
       "    }\n",
       "</style>\n",
       "<table border=\"1\" class=\"dataframe\">\n",
       "  <thead>\n",
       "    <tr style=\"text-align: right;\">\n",
       "      <th></th>\n",
       "      <th>gt_id</th>\n",
       "      <th>gt_page_id</th>\n",
       "      <th>gt_globe</th>\n",
       "      <th>gt_primary</th>\n",
       "      <th>gt_lat</th>\n",
       "      <th>gt_lon</th>\n",
       "      <th>gt_dim</th>\n",
       "      <th>gt_type</th>\n",
       "      <th>gt_name</th>\n",
       "      <th>gt_country</th>\n",
       "      <th>gt_region</th>\n",
       "    </tr>\n",
       "  </thead>\n",
       "  <tbody>\n",
       "    <tr>\n",
       "      <th>0</th>\n",
       "      <td>158041</td>\n",
       "      <td>4328020</td>\n",
       "      <td>earth</td>\n",
       "      <td>0</td>\n",
       "      <td>41.5075</td>\n",
       "      <td>-5.8175</td>\n",
       "      <td>1000</td>\n",
       "      <td>NaN</td>\n",
       "      <td>NaN</td>\n",
       "      <td>NaN</td>\n",
       "      <td>NaN</td>\n",
       "    </tr>\n",
       "    <tr>\n",
       "      <th>1</th>\n",
       "      <td>5844377</td>\n",
       "      <td>4670424</td>\n",
       "      <td>earth</td>\n",
       "      <td>0</td>\n",
       "      <td>13.7380</td>\n",
       "      <td>-89.2920</td>\n",
       "      <td>10000</td>\n",
       "      <td>city</td>\n",
       "      <td>NaN</td>\n",
       "      <td>NaN</td>\n",
       "      <td>NaN</td>\n",
       "    </tr>\n",
       "    <tr>\n",
       "      <th>2</th>\n",
       "      <td>5844381</td>\n",
       "      <td>4670424</td>\n",
       "      <td>earth</td>\n",
       "      <td>0</td>\n",
       "      <td>13.7020</td>\n",
       "      <td>-89.2080</td>\n",
       "      <td>10000</td>\n",
       "      <td>city</td>\n",
       "      <td>NaN</td>\n",
       "      <td>NaN</td>\n",
       "      <td>NaN</td>\n",
       "    </tr>\n",
       "    <tr>\n",
       "      <th>3</th>\n",
       "      <td>5844383</td>\n",
       "      <td>4670424</td>\n",
       "      <td>earth</td>\n",
       "      <td>0</td>\n",
       "      <td>13.4000</td>\n",
       "      <td>-89.7500</td>\n",
       "      <td>10000</td>\n",
       "      <td>city</td>\n",
       "      <td>NaN</td>\n",
       "      <td>NaN</td>\n",
       "      <td>NaN</td>\n",
       "    </tr>\n",
       "    <tr>\n",
       "      <th>4</th>\n",
       "      <td>5844388</td>\n",
       "      <td>4670424</td>\n",
       "      <td>earth</td>\n",
       "      <td>0</td>\n",
       "      <td>12.8500</td>\n",
       "      <td>-88.0000</td>\n",
       "      <td>10000</td>\n",
       "      <td>city</td>\n",
       "      <td>NaN</td>\n",
       "      <td>NaN</td>\n",
       "      <td>NaN</td>\n",
       "    </tr>\n",
       "  </tbody>\n",
       "</table>\n",
       "</div>"
      ],
      "text/plain": [
       "     gt_id  gt_page_id gt_globe  gt_primary   gt_lat   gt_lon  gt_dim gt_type  \\\n",
       "0   158041     4328020    earth           0  41.5075  -5.8175    1000     NaN   \n",
       "1  5844377     4670424    earth           0  13.7380 -89.2920   10000    city   \n",
       "2  5844381     4670424    earth           0  13.7020 -89.2080   10000    city   \n",
       "3  5844383     4670424    earth           0  13.4000 -89.7500   10000    city   \n",
       "4  5844388     4670424    earth           0  12.8500 -88.0000   10000    city   \n",
       "\n",
       "  gt_name gt_country gt_region  \n",
       "0     NaN        NaN       NaN  \n",
       "1     NaN        NaN       NaN  \n",
       "2     NaN        NaN       NaN  \n",
       "3     NaN        NaN       NaN  \n",
       "4     NaN        NaN       NaN  "
      ]
     },
     "execution_count": 11,
     "metadata": {},
     "output_type": "execute_result"
    }
   ],
   "source": [
    "geo_tags.head()"
   ]
  },
  {
   "cell_type": "code",
   "execution_count": 28,
   "metadata": {},
   "outputs": [
    {
     "data": {
      "text/html": [
       "<div>\n",
       "<style scoped>\n",
       "    .dataframe tbody tr th:only-of-type {\n",
       "        vertical-align: middle;\n",
       "    }\n",
       "\n",
       "    .dataframe tbody tr th {\n",
       "        vertical-align: top;\n",
       "    }\n",
       "\n",
       "    .dataframe thead th {\n",
       "        text-align: right;\n",
       "    }\n",
       "</style>\n",
       "<table border=\"1\" class=\"dataframe\">\n",
       "  <thead>\n",
       "    <tr style=\"text-align: right;\">\n",
       "      <th></th>\n",
       "      <th>id</th>\n",
       "      <th>revision_id</th>\n",
       "      <th>revision_timestamp</th>\n",
       "    </tr>\n",
       "  </thead>\n",
       "  <tbody>\n",
       "    <tr>\n",
       "      <th>0</th>\n",
       "      <td>5</td>\n",
       "      <td>132533307</td>\n",
       "      <td>2021-01-19T18:40:34Z</td>\n",
       "    </tr>\n",
       "    <tr>\n",
       "      <th>1</th>\n",
       "      <td>7</td>\n",
       "      <td>138035057</td>\n",
       "      <td>2021-08-31T18:27:01Z</td>\n",
       "    </tr>\n",
       "    <tr>\n",
       "      <th>2</th>\n",
       "      <td>10</td>\n",
       "      <td>137966826</td>\n",
       "      <td>2021-08-28T17:17:54Z</td>\n",
       "    </tr>\n",
       "    <tr>\n",
       "      <th>3</th>\n",
       "      <td>15</td>\n",
       "      <td>137986788</td>\n",
       "      <td>2021-08-29T17:16:00Z</td>\n",
       "    </tr>\n",
       "    <tr>\n",
       "      <th>4</th>\n",
       "      <td>17</td>\n",
       "      <td>130869554</td>\n",
       "      <td>2020-11-12T19:56:15Z</td>\n",
       "    </tr>\n",
       "  </tbody>\n",
       "</table>\n",
       "</div>"
      ],
      "text/plain": [
       "   id  revision_id    revision_timestamp\n",
       "0   5    132533307  2021-01-19T18:40:34Z\n",
       "1   7    138035057  2021-08-31T18:27:01Z\n",
       "2  10    137966826  2021-08-28T17:17:54Z\n",
       "3  15    137986788  2021-08-29T17:16:00Z\n",
       "4  17    130869554  2020-11-12T19:56:15Z"
      ]
     },
     "execution_count": 28,
     "metadata": {},
     "output_type": "execute_result"
    }
   ],
   "source": [
    "contents_short = contents[['id','revision_id','revision_timestamp']]\n",
    "contents_short.head()"
   ]
  },
  {
   "cell_type": "code",
   "execution_count": 29,
   "metadata": {},
   "outputs": [
    {
     "name": "stderr",
     "output_type": "stream",
     "text": [
      "<ipython-input-29-470df0935a65>:1: SettingWithCopyWarning: \n",
      "A value is trying to be set on a copy of a slice from a DataFrame.\n",
      "Try using .loc[row_indexer,col_indexer] = value instead\n",
      "\n",
      "See the caveats in the documentation: https://pandas.pydata.org/pandas-docs/stable/user_guide/indexing.html#returning-a-view-versus-a-copy\n",
      "  contents_short['revisor_id/ip'] = contents['revisor_id'].fillna(contents['revisor_ip'])\n"
     ]
    },
    {
     "data": {
      "text/html": [
       "<div>\n",
       "<style scoped>\n",
       "    .dataframe tbody tr th:only-of-type {\n",
       "        vertical-align: middle;\n",
       "    }\n",
       "\n",
       "    .dataframe tbody tr th {\n",
       "        vertical-align: top;\n",
       "    }\n",
       "\n",
       "    .dataframe thead th {\n",
       "        text-align: right;\n",
       "    }\n",
       "</style>\n",
       "<table border=\"1\" class=\"dataframe\">\n",
       "  <thead>\n",
       "    <tr style=\"text-align: right;\">\n",
       "      <th></th>\n",
       "      <th>id</th>\n",
       "      <th>revision_id</th>\n",
       "      <th>revision_timestamp</th>\n",
       "      <th>revisor_id/ip</th>\n",
       "    </tr>\n",
       "  </thead>\n",
       "  <tbody>\n",
       "    <tr>\n",
       "      <th>0</th>\n",
       "      <td>5</td>\n",
       "      <td>132533307</td>\n",
       "      <td>2021-01-19T18:40:34Z</td>\n",
       "      <td>1.70823e+06</td>\n",
       "    </tr>\n",
       "    <tr>\n",
       "      <th>1</th>\n",
       "      <td>7</td>\n",
       "      <td>138035057</td>\n",
       "      <td>2021-08-31T18:27:01Z</td>\n",
       "      <td>2800:CD0:FC1B:A900:C5A4:9E81:7175:2ED2</td>\n",
       "    </tr>\n",
       "    <tr>\n",
       "      <th>2</th>\n",
       "      <td>10</td>\n",
       "      <td>137966826</td>\n",
       "      <td>2021-08-28T17:17:54Z</td>\n",
       "      <td>4.64228e+06</td>\n",
       "    </tr>\n",
       "    <tr>\n",
       "      <th>3</th>\n",
       "      <td>15</td>\n",
       "      <td>137986788</td>\n",
       "      <td>2021-08-29T17:16:00Z</td>\n",
       "      <td>5.33851e+06</td>\n",
       "    </tr>\n",
       "    <tr>\n",
       "      <th>4</th>\n",
       "      <td>17</td>\n",
       "      <td>130869554</td>\n",
       "      <td>2020-11-12T19:56:15Z</td>\n",
       "      <td>3.61537e+06</td>\n",
       "    </tr>\n",
       "  </tbody>\n",
       "</table>\n",
       "</div>"
      ],
      "text/plain": [
       "   id  revision_id    revision_timestamp  \\\n",
       "0   5    132533307  2021-01-19T18:40:34Z   \n",
       "1   7    138035057  2021-08-31T18:27:01Z   \n",
       "2  10    137966826  2021-08-28T17:17:54Z   \n",
       "3  15    137986788  2021-08-29T17:16:00Z   \n",
       "4  17    130869554  2020-11-12T19:56:15Z   \n",
       "\n",
       "                            revisor_id/ip  \n",
       "0                             1.70823e+06  \n",
       "1  2800:CD0:FC1B:A900:C5A4:9E81:7175:2ED2  \n",
       "2                             4.64228e+06  \n",
       "3                             5.33851e+06  \n",
       "4                             3.61537e+06  "
      ]
     },
     "execution_count": 29,
     "metadata": {},
     "output_type": "execute_result"
    }
   ],
   "source": [
    "contents_short['revisor_id/ip'] = contents['revisor_id'].fillna(contents['revisor_ip'])\n",
    "contents_short.head()"
   ]
  },
  {
   "cell_type": "code",
   "execution_count": 30,
   "metadata": {},
   "outputs": [
    {
     "name": "stdout",
     "output_type": "stream",
     "text": [
      "<class 'pandas.core.frame.DataFrame'>\n",
      "RangeIndex: 4132164 entries, 0 to 4132163\n",
      "Data columns (total 4 columns):\n",
      " #   Column              Dtype              \n",
      "---  ------              -----              \n",
      " 0   id                  int64              \n",
      " 1   revision_id         int64              \n",
      " 2   revision_timestamp  datetime64[ns, UTC]\n",
      " 3   revisor_id/ip       object             \n",
      "dtypes: datetime64[ns, UTC](1), int64(2), object(1)\n",
      "memory usage: 126.1+ MB\n"
     ]
    },
    {
     "name": "stderr",
     "output_type": "stream",
     "text": [
      "<ipython-input-30-c5fe3af0d051>:1: SettingWithCopyWarning: \n",
      "A value is trying to be set on a copy of a slice from a DataFrame.\n",
      "Try using .loc[row_indexer,col_indexer] = value instead\n",
      "\n",
      "See the caveats in the documentation: https://pandas.pydata.org/pandas-docs/stable/user_guide/indexing.html#returning-a-view-versus-a-copy\n",
      "  contents_short['revision_timestamp'] = pd.to_datetime(contents_short['revision_timestamp'])\n"
     ]
    }
   ],
   "source": [
    "contents_short['revision_timestamp'] = pd.to_datetime(contents_short['revision_timestamp'])\n",
    "contents_short.info()"
   ]
  },
  {
   "cell_type": "code",
   "execution_count": 31,
   "metadata": {},
   "outputs": [
    {
     "data": {
      "text/plain": [
       "id                    0\n",
       "revision_id           0\n",
       "revision_timestamp    0\n",
       "revisor_id/ip         1\n",
       "dtype: int64"
      ]
     },
     "execution_count": 31,
     "metadata": {},
     "output_type": "execute_result"
    }
   ],
   "source": [
    "contents_short.isnull().sum()"
   ]
  },
  {
   "cell_type": "code",
   "execution_count": 32,
   "metadata": {},
   "outputs": [
    {
     "name": "stderr",
     "output_type": "stream",
     "text": [
      "<ipython-input-32-f1728d3030d1>:2: SettingWithCopyWarning: \n",
      "A value is trying to be set on a copy of a slice from a DataFrame\n",
      "\n",
      "See the caveats in the documentation: https://pandas.pydata.org/pandas-docs/stable/user_guide/indexing.html#returning-a-view-versus-a-copy\n",
      "  contents_short.dropna(inplace=True)\n"
     ]
    }
   ],
   "source": [
    "# Como tengo un solo null, lo dropeo\n",
    "contents_short.dropna(inplace=True)"
   ]
  },
  {
   "cell_type": "code",
   "execution_count": 33,
   "metadata": {},
   "outputs": [
    {
     "data": {
      "text/plain": [
       "id                    0\n",
       "revision_id           0\n",
       "revision_timestamp    0\n",
       "revisor_id/ip         0\n",
       "dtype: int64"
      ]
     },
     "execution_count": 33,
     "metadata": {},
     "output_type": "execute_result"
    }
   ],
   "source": [
    "contents_short.isnull().sum()"
   ]
  },
  {
   "cell_type": "code",
   "execution_count": 18,
   "metadata": {},
   "outputs": [
    {
     "data": {
      "text/plain": [
       "gt_page_id    0\n",
       "gt_lat        0\n",
       "gt_lon        0\n",
       "dtype: int64"
      ]
     },
     "execution_count": 18,
     "metadata": {},
     "output_type": "execute_result"
    }
   ],
   "source": [
    "geo_tags_short =  geo_tags[['gt_page_id','gt_lat','gt_lon']]\n",
    "geo_tags_short.isnull().sum()"
   ]
  },
  {
   "cell_type": "markdown",
   "metadata": {},
   "source": [
    "Como podemos ver, ambos dt con los que voy a trabajar estan limpios."
   ]
  },
  {
   "cell_type": "code",
   "execution_count": 19,
   "metadata": {},
   "outputs": [
    {
     "name": "stderr",
     "output_type": "stream",
     "text": [
      "C:\\Users\\alejo\\anaconda3\\lib\\site-packages\\pandas\\core\\frame.py:4125: SettingWithCopyWarning: \n",
      "A value is trying to be set on a copy of a slice from a DataFrame\n",
      "\n",
      "See the caveats in the documentation: https://pandas.pydata.org/pandas-docs/stable/user_guide/indexing.html#returning-a-view-versus-a-copy\n",
      "  return super().rename(\n"
     ]
    }
   ],
   "source": [
    "# Cambio el nombre de la columna\n",
    "geo_tags_short.rename(columns={'gt_page_id':'id'},inplace=True)"
   ]
  },
  {
   "cell_type": "code",
   "execution_count": 34,
   "metadata": {},
   "outputs": [
    {
     "data": {
      "text/html": [
       "<div>\n",
       "<style scoped>\n",
       "    .dataframe tbody tr th:only-of-type {\n",
       "        vertical-align: middle;\n",
       "    }\n",
       "\n",
       "    .dataframe tbody tr th {\n",
       "        vertical-align: top;\n",
       "    }\n",
       "\n",
       "    .dataframe thead th {\n",
       "        text-align: right;\n",
       "    }\n",
       "</style>\n",
       "<table border=\"1\" class=\"dataframe\">\n",
       "  <thead>\n",
       "    <tr style=\"text-align: right;\">\n",
       "      <th></th>\n",
       "      <th>id</th>\n",
       "      <th>gt_lat</th>\n",
       "      <th>gt_lon</th>\n",
       "      <th>revision_id</th>\n",
       "      <th>revision_timestamp</th>\n",
       "      <th>revisor_id/ip</th>\n",
       "    </tr>\n",
       "  </thead>\n",
       "  <tbody>\n",
       "    <tr>\n",
       "      <th>0</th>\n",
       "      <td>4328020</td>\n",
       "      <td>41.507500</td>\n",
       "      <td>-5.817500</td>\n",
       "      <td>65728616</td>\n",
       "      <td>2013-03-29 10:02:04+00:00</td>\n",
       "      <td>622035</td>\n",
       "    </tr>\n",
       "    <tr>\n",
       "      <th>1</th>\n",
       "      <td>4328020</td>\n",
       "      <td>41.751667</td>\n",
       "      <td>-5.751667</td>\n",
       "      <td>65728616</td>\n",
       "      <td>2013-03-29 10:02:04+00:00</td>\n",
       "      <td>622035</td>\n",
       "    </tr>\n",
       "    <tr>\n",
       "      <th>2</th>\n",
       "      <td>4328020</td>\n",
       "      <td>41.492500</td>\n",
       "      <td>-5.786111</td>\n",
       "      <td>65728616</td>\n",
       "      <td>2013-03-29 10:02:04+00:00</td>\n",
       "      <td>622035</td>\n",
       "    </tr>\n",
       "    <tr>\n",
       "      <th>3</th>\n",
       "      <td>4328020</td>\n",
       "      <td>41.492222</td>\n",
       "      <td>-5.771111</td>\n",
       "      <td>65728616</td>\n",
       "      <td>2013-03-29 10:02:04+00:00</td>\n",
       "      <td>622035</td>\n",
       "    </tr>\n",
       "    <tr>\n",
       "      <th>4</th>\n",
       "      <td>4328020</td>\n",
       "      <td>41.470833</td>\n",
       "      <td>-5.757778</td>\n",
       "      <td>65728616</td>\n",
       "      <td>2013-03-29 10:02:04+00:00</td>\n",
       "      <td>622035</td>\n",
       "    </tr>\n",
       "  </tbody>\n",
       "</table>\n",
       "</div>"
      ],
      "text/plain": [
       "        id     gt_lat    gt_lon  revision_id        revision_timestamp  \\\n",
       "0  4328020  41.507500 -5.817500     65728616 2013-03-29 10:02:04+00:00   \n",
       "1  4328020  41.751667 -5.751667     65728616 2013-03-29 10:02:04+00:00   \n",
       "2  4328020  41.492500 -5.786111     65728616 2013-03-29 10:02:04+00:00   \n",
       "3  4328020  41.492222 -5.771111     65728616 2013-03-29 10:02:04+00:00   \n",
       "4  4328020  41.470833 -5.757778     65728616 2013-03-29 10:02:04+00:00   \n",
       "\n",
       "  revisor_id/ip  \n",
       "0        622035  \n",
       "1        622035  \n",
       "2        622035  \n",
       "3        622035  \n",
       "4        622035  "
      ]
     },
     "execution_count": 34,
     "metadata": {},
     "output_type": "execute_result"
    }
   ],
   "source": [
    "# Mergeo los geo_tags con mis contenidos para quedarme con aquellos que poseen una referencia geolocalizable\n",
    "merged_content = geo_tags_short.merge(contents_short,on='id')\n",
    "merged_content.head()"
   ]
  },
  {
   "cell_type": "code",
   "execution_count": 36,
   "metadata": {},
   "outputs": [
    {
     "data": {
      "text/html": [
       "<div>\n",
       "<style scoped>\n",
       "    .dataframe tbody tr th:only-of-type {\n",
       "        vertical-align: middle;\n",
       "    }\n",
       "\n",
       "    .dataframe tbody tr th {\n",
       "        vertical-align: top;\n",
       "    }\n",
       "\n",
       "    .dataframe thead th {\n",
       "        text-align: right;\n",
       "    }\n",
       "</style>\n",
       "<table border=\"1\" class=\"dataframe\">\n",
       "  <thead>\n",
       "    <tr style=\"text-align: right;\">\n",
       "      <th></th>\n",
       "      <th>gt_lat</th>\n",
       "      <th>gt_lon</th>\n",
       "    </tr>\n",
       "    <tr>\n",
       "      <th>revisor_id/ip</th>\n",
       "      <th></th>\n",
       "      <th></th>\n",
       "    </tr>\n",
       "  </thead>\n",
       "  <tbody>\n",
       "    <tr>\n",
       "      <th>639.0</th>\n",
       "      <td>32.747667</td>\n",
       "      <td>-62.459055</td>\n",
       "    </tr>\n",
       "    <tr>\n",
       "      <th>1299.0</th>\n",
       "      <td>40.223412</td>\n",
       "      <td>-4.529800</td>\n",
       "    </tr>\n",
       "    <tr>\n",
       "      <th>1430.0</th>\n",
       "      <td>41.538595</td>\n",
       "      <td>-1.630543</td>\n",
       "    </tr>\n",
       "    <tr>\n",
       "      <th>1640.0</th>\n",
       "      <td>27.508962</td>\n",
       "      <td>-16.366295</td>\n",
       "    </tr>\n",
       "    <tr>\n",
       "      <th>1854.0</th>\n",
       "      <td>38.412029</td>\n",
       "      <td>-0.988330</td>\n",
       "    </tr>\n",
       "    <tr>\n",
       "      <th>...</th>\n",
       "      <td>...</td>\n",
       "      <td>...</td>\n",
       "    </tr>\n",
       "    <tr>\n",
       "      <th>98.158.240.204</th>\n",
       "      <td>20.651622</td>\n",
       "      <td>-103.400247</td>\n",
       "    </tr>\n",
       "    <tr>\n",
       "      <th>99.164.33.227</th>\n",
       "      <td>-11.844682</td>\n",
       "      <td>-76.383777</td>\n",
       "    </tr>\n",
       "    <tr>\n",
       "      <th>99.2.37.220</th>\n",
       "      <td>38.622500</td>\n",
       "      <td>-90.193056</td>\n",
       "    </tr>\n",
       "    <tr>\n",
       "      <th>99.239.77.235</th>\n",
       "      <td>47.493889</td>\n",
       "      <td>7.315833</td>\n",
       "    </tr>\n",
       "    <tr>\n",
       "      <th>99.29.229.61</th>\n",
       "      <td>27.190000</td>\n",
       "      <td>-82.370000</td>\n",
       "    </tr>\n",
       "  </tbody>\n",
       "</table>\n",
       "<p>19331 rows × 2 columns</p>\n",
       "</div>"
      ],
      "text/plain": [
       "                   gt_lat      gt_lon\n",
       "revisor_id/ip                        \n",
       "639.0           32.747667  -62.459055\n",
       "1299.0          40.223412   -4.529800\n",
       "1430.0          41.538595   -1.630543\n",
       "1640.0          27.508962  -16.366295\n",
       "1854.0          38.412029   -0.988330\n",
       "...                   ...         ...\n",
       "98.158.240.204  20.651622 -103.400247\n",
       "99.164.33.227  -11.844682  -76.383777\n",
       "99.2.37.220     38.622500  -90.193056\n",
       "99.239.77.235   47.493889    7.315833\n",
       "99.29.229.61    27.190000  -82.370000\n",
       "\n",
       "[19331 rows x 2 columns]"
      ]
     },
     "execution_count": 36,
     "metadata": {},
     "output_type": "execute_result"
    }
   ],
   "source": [
    "# Ahora tengo en un DataFrame a los usuaarios que hicieron la ultima revision, desde donde y para que contenido.\n",
    "# Por lo que voy a agruparlos en un groupby para buscar los dos mas cercanos.\n",
    "grouped_revisor = merged_content.groupby(['revisor_id/ip']).agg({'gt_lat':'mean','gt_lon':'mean'})\n",
    "grouped_revisor"
   ]
  },
  {
   "cell_type": "code",
   "execution_count": 38,
   "metadata": {},
   "outputs": [
    {
     "data": {
      "text/plain": [
       "array([[ 32.74766667, -62.45905511],\n",
       "       [ 40.22341195,  -4.52979967],\n",
       "       [ 41.538595  ,  -1.630543  ],\n",
       "       ...,\n",
       "       [ 38.6225    , -90.193056  ],\n",
       "       [ 47.49388889,   7.31583333],\n",
       "       [ 27.19      , -82.37      ]])"
      ]
     },
     "execution_count": 38,
     "metadata": {},
     "output_type": "execute_result"
    }
   ],
   "source": [
    "# Para poder usar neigthboors\n",
    "coordenates = grouped_revisor[['gt_lat','gt_lon']].values\n",
    "coordenates"
   ]
  },
  {
   "cell_type": "code",
   "execution_count": 39,
   "metadata": {},
   "outputs": [],
   "source": [
    "naam = NearestNeighbors(n_neighbors=2, algorithm='kd_tree').fit(coordenates)\n",
    "distances, indices = naam.kneighbors(coordenates)"
   ]
  },
  {
   "cell_type": "code",
   "execution_count": 42,
   "metadata": {},
   "outputs": [
    {
     "data": {
      "text/plain": [
       "array([[0.        , 0.17815216],\n",
       "       [0.        , 0.07995968],\n",
       "       [0.        , 0.00696172],\n",
       "       ...,\n",
       "       [0.        , 0.00667792],\n",
       "       [0.        , 0.10592115],\n",
       "       [0.        , 0.8001235 ]])"
      ]
     },
     "execution_count": 42,
     "metadata": {},
     "output_type": "execute_result"
    }
   ],
   "source": [
    "distances"
   ]
  },
  {
   "cell_type": "code",
   "execution_count": 43,
   "metadata": {},
   "outputs": [
    {
     "data": {
      "text/plain": [
       "(array([  288,   674,  1129,  1509,  1637,  1835,  1845,  1875,  2055,\n",
       "         2186,  2227,  2228,  2753,  2783,  2848,  2893,  2905,  3245,\n",
       "         3288,  3447,  3574,  3579,  3656,  3679,  3698,  3704,  3782,\n",
       "         3821,  3946,  4093,  4334,  4416,  4516,  4557,  5053,  5097,\n",
       "         5156,  5276,  5310,  5457,  5511,  5523,  5526,  5560,  5580,\n",
       "         5749,  5813,  5817,  5870,  6028,  6095,  6178,  6273,  6314,\n",
       "         6422,  6606,  6638,  6807,  6808,  6881,  6923,  6952,  7041,\n",
       "         7117,  7307,  7467,  7544,  7586,  7651,  7670,  7699,  7725,\n",
       "         7741,  7749,  7922,  8021,  8138,  8159,  8362,  8500,  8563,\n",
       "         8799,  8859,  9053,  9190,  9224,  9276,  9299,  9380,  9404,\n",
       "         9537,  9563,  9589,  9679,  9791,  9837,  9977, 10037, 10195,\n",
       "        10255, 10306, 10366, 10368, 10379, 10380, 10407, 10436, 10553,\n",
       "        10580, 10590, 10637, 10677, 10850, 10986, 11036, 11145, 11282,\n",
       "        11323, 11351, 11503, 11861, 11960, 12065, 12066, 12188, 12288,\n",
       "        12673, 12807, 12831, 12842, 12878, 12969, 13008, 13070, 13419,\n",
       "        13456, 13531, 13696, 14025, 14046, 14068, 14075, 14206, 14269,\n",
       "        14412, 14446, 14531, 14684, 14709, 14803, 14940, 14992, 15083,\n",
       "        15129, 15183, 15345, 15812, 15847, 15876, 15951, 16050, 16076,\n",
       "        16111, 16205, 16254, 16409, 16430, 16543, 16554, 16974, 17356,\n",
       "        17470, 17605, 17830, 17840, 18135, 18706, 18780, 18793, 18856,\n",
       "        18977, 19010, 19032, 19134, 19289], dtype=int64),)"
      ]
     },
     "execution_count": 43,
     "metadata": {},
     "output_type": "execute_result"
    }
   ],
   "source": [
    "# Posiciones de indices donde se encuentran posibles vecinos cercanos\n",
    "i = np.where(distances[:,1].flatten() ==  np.amin(distances[:,1].flatten()))\n",
    "i"
   ]
  },
  {
   "cell_type": "code",
   "execution_count": 44,
   "metadata": {},
   "outputs": [
    {
     "data": {
      "text/html": [
       "<div>\n",
       "<style scoped>\n",
       "    .dataframe tbody tr th:only-of-type {\n",
       "        vertical-align: middle;\n",
       "    }\n",
       "\n",
       "    .dataframe tbody tr th {\n",
       "        vertical-align: top;\n",
       "    }\n",
       "\n",
       "    .dataframe thead th {\n",
       "        text-align: right;\n",
       "    }\n",
       "</style>\n",
       "<table border=\"1\" class=\"dataframe\">\n",
       "  <thead>\n",
       "    <tr style=\"text-align: right;\">\n",
       "      <th></th>\n",
       "      <th>gt_lat</th>\n",
       "      <th>gt_lon</th>\n",
       "    </tr>\n",
       "    <tr>\n",
       "      <th>revisor_id/ip</th>\n",
       "      <th></th>\n",
       "      <th></th>\n",
       "    </tr>\n",
       "  </thead>\n",
       "  <tbody>\n",
       "    <tr>\n",
       "      <th>639.0</th>\n",
       "      <td>32.747667</td>\n",
       "      <td>-62.459055</td>\n",
       "    </tr>\n",
       "    <tr>\n",
       "      <th>458083.0</th>\n",
       "      <td>32.890752</td>\n",
       "      <td>-62.565191</td>\n",
       "    </tr>\n",
       "  </tbody>\n",
       "</table>\n",
       "</div>"
      ],
      "text/plain": [
       "                  gt_lat     gt_lon\n",
       "revisor_id/ip                      \n",
       "639.0          32.747667 -62.459055\n",
       "458083.0       32.890752 -62.565191"
      ]
     },
     "execution_count": 44,
     "metadata": {},
     "output_type": "execute_result"
    }
   ],
   "source": [
    "# Elijo los de la posicion 0, asegurandome que son los dos mas cercanos entre si.\n",
    "grouped_revisor.iloc[indices[0]]"
   ]
  },
  {
   "cell_type": "code",
   "execution_count": null,
   "metadata": {},
   "outputs": [],
   "source": []
  }
 ],
 "metadata": {
  "kernelspec": {
   "display_name": "Python 3",
   "language": "python",
   "name": "python3"
  },
  "language_info": {
   "codemirror_mode": {
    "name": "ipython",
    "version": 3
   },
   "file_extension": ".py",
   "mimetype": "text/x-python",
   "name": "python",
   "nbconvert_exporter": "python",
   "pygments_lexer": "ipython3",
   "version": "3.8.3"
  }
 },
 "nbformat": 4,
 "nbformat_minor": 4
}
