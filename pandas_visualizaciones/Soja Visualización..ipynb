{
 "cells": [
  {
   "cell_type": "code",
   "execution_count": 1,
   "metadata": {},
   "outputs": [],
   "source": [
    "import pandas as pd\n",
    "import numpy as np\n",
    "import matplotlib.pyplot as plt\n",
    "import seaborn as sns"
   ]
  },
  {
   "cell_type": "code",
   "execution_count": 2,
   "metadata": {},
   "outputs": [
    {
     "data": {
      "text/html": [
       "<div>\n",
       "<style scoped>\n",
       "    .dataframe tbody tr th:only-of-type {\n",
       "        vertical-align: middle;\n",
       "    }\n",
       "\n",
       "    .dataframe tbody tr th {\n",
       "        vertical-align: top;\n",
       "    }\n",
       "\n",
       "    .dataframe thead th {\n",
       "        text-align: right;\n",
       "    }\n",
       "</style>\n",
       "<table border=\"1\" class=\"dataframe\">\n",
       "  <thead>\n",
       "    <tr style=\"text-align: right;\">\n",
       "      <th></th>\n",
       "      <th>Id</th>\n",
       "      <th>Fecha</th>\n",
       "      <th>Open</th>\n",
       "      <th>High</th>\n",
       "      <th>Low</th>\n",
       "      <th>Last</th>\n",
       "      <th>Cierre</th>\n",
       "      <th>Aj.Dif.</th>\n",
       "      <th>Mon.</th>\n",
       "      <th>OI.Vol.</th>\n",
       "      <th>OI.Dif.</th>\n",
       "      <th>Vol.Ope.</th>\n",
       "      <th>Unidad</th>\n",
       "      <th>DolarB.N.</th>\n",
       "      <th>DolarItau.</th>\n",
       "      <th>Dif.Sem</th>\n",
       "    </tr>\n",
       "  </thead>\n",
       "  <tbody>\n",
       "    <tr>\n",
       "      <th>0</th>\n",
       "      <td>1</td>\n",
       "      <td>05/01/2004 12:00:00 a.m.</td>\n",
       "      <td>0.0</td>\n",
       "      <td>0.0</td>\n",
       "      <td>0.0</td>\n",
       "      <td>0.0</td>\n",
       "      <td>221.0</td>\n",
       "      <td>13.0</td>\n",
       "      <td>D</td>\n",
       "      <td>0</td>\n",
       "      <td>0</td>\n",
       "      <td>0</td>\n",
       "      <td>TONS</td>\n",
       "      <td>2.92</td>\n",
       "      <td>2.905</td>\n",
       "      <td>-221.0</td>\n",
       "    </tr>\n",
       "    <tr>\n",
       "      <th>1</th>\n",
       "      <td>2</td>\n",
       "      <td>06/01/2004 12:00:00 a.m.</td>\n",
       "      <td>0.0</td>\n",
       "      <td>0.0</td>\n",
       "      <td>0.0</td>\n",
       "      <td>0.0</td>\n",
       "      <td>221.0</td>\n",
       "      <td>0.0</td>\n",
       "      <td>D</td>\n",
       "      <td>0</td>\n",
       "      <td>0</td>\n",
       "      <td>0</td>\n",
       "      <td>TONS</td>\n",
       "      <td>2.88</td>\n",
       "      <td>2.87</td>\n",
       "      <td>-221.0</td>\n",
       "    </tr>\n",
       "    <tr>\n",
       "      <th>2</th>\n",
       "      <td>3</td>\n",
       "      <td>07/01/2004 12:00:00 a.m.</td>\n",
       "      <td>0.0</td>\n",
       "      <td>0.0</td>\n",
       "      <td>0.0</td>\n",
       "      <td>0.0</td>\n",
       "      <td>219.0</td>\n",
       "      <td>-2.0</td>\n",
       "      <td>D</td>\n",
       "      <td>0</td>\n",
       "      <td>0</td>\n",
       "      <td>0</td>\n",
       "      <td>TONS</td>\n",
       "      <td>2.865</td>\n",
       "      <td>2.882</td>\n",
       "      <td>-219.0</td>\n",
       "    </tr>\n",
       "    <tr>\n",
       "      <th>3</th>\n",
       "      <td>4</td>\n",
       "      <td>08/01/2004 12:00:00 a.m.</td>\n",
       "      <td>0.0</td>\n",
       "      <td>0.0</td>\n",
       "      <td>0.0</td>\n",
       "      <td>0.0</td>\n",
       "      <td>220.0</td>\n",
       "      <td>1.0</td>\n",
       "      <td>D</td>\n",
       "      <td>0</td>\n",
       "      <td>0</td>\n",
       "      <td>0</td>\n",
       "      <td>TONS</td>\n",
       "      <td>2.887</td>\n",
       "      <td>2.884</td>\n",
       "      <td>-220.0</td>\n",
       "    </tr>\n",
       "    <tr>\n",
       "      <th>4</th>\n",
       "      <td>5</td>\n",
       "      <td>09/01/2004 12:00:00 a.m.</td>\n",
       "      <td>0.0</td>\n",
       "      <td>0.0</td>\n",
       "      <td>0.0</td>\n",
       "      <td>0.0</td>\n",
       "      <td>220.0</td>\n",
       "      <td>0.0</td>\n",
       "      <td>D</td>\n",
       "      <td>0</td>\n",
       "      <td>0</td>\n",
       "      <td>0</td>\n",
       "      <td>TONS</td>\n",
       "      <td>2.892</td>\n",
       "      <td>2.9</td>\n",
       "      <td>-220.0</td>\n",
       "    </tr>\n",
       "  </tbody>\n",
       "</table>\n",
       "</div>"
      ],
      "text/plain": [
       "   Id                     Fecha  Open  High  Low  Last  Cierre  Aj.Dif. Mon.  \\\n",
       "0   1  05/01/2004 12:00:00 a.m.   0.0   0.0  0.0   0.0   221.0     13.0    D   \n",
       "1   2  06/01/2004 12:00:00 a.m.   0.0   0.0  0.0   0.0   221.0      0.0    D   \n",
       "2   3  07/01/2004 12:00:00 a.m.   0.0   0.0  0.0   0.0   219.0     -2.0    D   \n",
       "3   4  08/01/2004 12:00:00 a.m.   0.0   0.0  0.0   0.0   220.0      1.0    D   \n",
       "4   5  09/01/2004 12:00:00 a.m.   0.0   0.0  0.0   0.0   220.0      0.0    D   \n",
       "\n",
       "   OI.Vol.  OI.Dif.  Vol.Ope. Unidad DolarB.N. DolarItau.  Dif.Sem  \n",
       "0        0        0         0   TONS      2.92      2.905   -221.0  \n",
       "1        0        0         0   TONS      2.88       2.87   -221.0  \n",
       "2        0        0         0   TONS     2.865      2.882   -219.0  \n",
       "3        0        0         0   TONS     2.887      2.884   -220.0  \n",
       "4        0        0         0   TONS     2.892        2.9   -220.0  "
      ]
     },
     "execution_count": 2,
     "metadata": {},
     "output_type": "execute_result"
    }
   ],
   "source": [
    "soja = pd.read_csv(\"soja.csv\")\n",
    "soja.head()"
   ]
  },
  {
   "cell_type": "code",
   "execution_count": 3,
   "metadata": {},
   "outputs": [
    {
     "data": {
      "text/html": [
       "<div>\n",
       "<style scoped>\n",
       "    .dataframe tbody tr th:only-of-type {\n",
       "        vertical-align: middle;\n",
       "    }\n",
       "\n",
       "    .dataframe tbody tr th {\n",
       "        vertical-align: top;\n",
       "    }\n",
       "\n",
       "    .dataframe thead th {\n",
       "        text-align: right;\n",
       "    }\n",
       "</style>\n",
       "<table border=\"1\" class=\"dataframe\">\n",
       "  <thead>\n",
       "    <tr style=\"text-align: right;\">\n",
       "      <th></th>\n",
       "      <th>Fecha</th>\n",
       "      <th>Cierre</th>\n",
       "    </tr>\n",
       "  </thead>\n",
       "  <tbody>\n",
       "    <tr>\n",
       "      <th>0</th>\n",
       "      <td>05/01/2004 12:00:00 a.m.</td>\n",
       "      <td>221.0</td>\n",
       "    </tr>\n",
       "    <tr>\n",
       "      <th>1</th>\n",
       "      <td>06/01/2004 12:00:00 a.m.</td>\n",
       "      <td>221.0</td>\n",
       "    </tr>\n",
       "    <tr>\n",
       "      <th>2</th>\n",
       "      <td>07/01/2004 12:00:00 a.m.</td>\n",
       "      <td>219.0</td>\n",
       "    </tr>\n",
       "    <tr>\n",
       "      <th>3</th>\n",
       "      <td>08/01/2004 12:00:00 a.m.</td>\n",
       "      <td>220.0</td>\n",
       "    </tr>\n",
       "    <tr>\n",
       "      <th>4</th>\n",
       "      <td>09/01/2004 12:00:00 a.m.</td>\n",
       "      <td>220.0</td>\n",
       "    </tr>\n",
       "    <tr>\n",
       "      <th>...</th>\n",
       "      <td>...</td>\n",
       "      <td>...</td>\n",
       "    </tr>\n",
       "    <tr>\n",
       "      <th>3870</th>\n",
       "      <td>23/09/2019 12:00:00 a.m.</td>\n",
       "      <td>238.0</td>\n",
       "    </tr>\n",
       "    <tr>\n",
       "      <th>3871</th>\n",
       "      <td>24/09/2019 12:00:00 a.m.</td>\n",
       "      <td>238.0</td>\n",
       "    </tr>\n",
       "    <tr>\n",
       "      <th>3872</th>\n",
       "      <td>25/09/2019 12:00:00 a.m.</td>\n",
       "      <td>237.0</td>\n",
       "    </tr>\n",
       "    <tr>\n",
       "      <th>3873</th>\n",
       "      <td>26/09/2019 12:00:00 a.m.</td>\n",
       "      <td>236.0</td>\n",
       "    </tr>\n",
       "    <tr>\n",
       "      <th>3874</th>\n",
       "      <td>27/09/2019 12:00:00 a.m.</td>\n",
       "      <td>234.0</td>\n",
       "    </tr>\n",
       "  </tbody>\n",
       "</table>\n",
       "<p>3875 rows × 2 columns</p>\n",
       "</div>"
      ],
      "text/plain": [
       "                         Fecha  Cierre\n",
       "0     05/01/2004 12:00:00 a.m.   221.0\n",
       "1     06/01/2004 12:00:00 a.m.   221.0\n",
       "2     07/01/2004 12:00:00 a.m.   219.0\n",
       "3     08/01/2004 12:00:00 a.m.   220.0\n",
       "4     09/01/2004 12:00:00 a.m.   220.0\n",
       "...                        ...     ...\n",
       "3870  23/09/2019 12:00:00 a.m.   238.0\n",
       "3871  24/09/2019 12:00:00 a.m.   238.0\n",
       "3872  25/09/2019 12:00:00 a.m.   237.0\n",
       "3873  26/09/2019 12:00:00 a.m.   236.0\n",
       "3874  27/09/2019 12:00:00 a.m.   234.0\n",
       "\n",
       "[3875 rows x 2 columns]"
      ]
     },
     "execution_count": 3,
     "metadata": {},
     "output_type": "execute_result"
    }
   ],
   "source": [
    "short_soja = soja[['Fecha','Cierre']]\n",
    "short_soja"
   ]
  },
  {
   "cell_type": "code",
   "execution_count": 4,
   "metadata": {},
   "outputs": [
    {
     "name": "stdout",
     "output_type": "stream",
     "text": [
      "<class 'pandas.core.frame.DataFrame'>\n",
      "RangeIndex: 3875 entries, 0 to 3874\n",
      "Data columns (total 2 columns):\n",
      " #   Column  Non-Null Count  Dtype         \n",
      "---  ------  --------------  -----         \n",
      " 0   Fecha   3875 non-null   datetime64[ns]\n",
      " 1   Cierre  3875 non-null   float64       \n",
      "dtypes: datetime64[ns](1), float64(1)\n",
      "memory usage: 60.7 KB\n"
     ]
    },
    {
     "name": "stderr",
     "output_type": "stream",
     "text": [
      "<ipython-input-4-6df5801bfbe2>:1: SettingWithCopyWarning: \n",
      "A value is trying to be set on a copy of a slice from a DataFrame.\n",
      "Try using .loc[row_indexer,col_indexer] = value instead\n",
      "\n",
      "See the caveats in the documentation: https://pandas.pydata.org/pandas-docs/stable/user_guide/indexing.html#returning-a-view-versus-a-copy\n",
      "  short_soja['Fecha'] = pd.to_datetime(short_soja['Fecha'])\n"
     ]
    }
   ],
   "source": [
    "short_soja['Fecha'] = pd.to_datetime(short_soja['Fecha'])\n",
    "short_soja.info()"
   ]
  },
  {
   "cell_type": "code",
   "execution_count": 5,
   "metadata": {},
   "outputs": [
    {
     "name": "stderr",
     "output_type": "stream",
     "text": [
      "<ipython-input-5-004754c7004d>:1: SettingWithCopyWarning: \n",
      "A value is trying to be set on a copy of a slice from a DataFrame.\n",
      "Try using .loc[row_indexer,col_indexer] = value instead\n",
      "\n",
      "See the caveats in the documentation: https://pandas.pydata.org/pandas-docs/stable/user_guide/indexing.html#returning-a-view-versus-a-copy\n",
      "  short_soja['Anio'] = short_soja['Fecha'].dt.year\n"
     ]
    }
   ],
   "source": [
    "short_soja['Anio'] = short_soja['Fecha'].dt.year"
   ]
  },
  {
   "cell_type": "code",
   "execution_count": 6,
   "metadata": {},
   "outputs": [
    {
     "data": {
      "text/html": [
       "<div>\n",
       "<style scoped>\n",
       "    .dataframe tbody tr th:only-of-type {\n",
       "        vertical-align: middle;\n",
       "    }\n",
       "\n",
       "    .dataframe tbody tr th {\n",
       "        vertical-align: top;\n",
       "    }\n",
       "\n",
       "    .dataframe thead th {\n",
       "        text-align: right;\n",
       "    }\n",
       "</style>\n",
       "<table border=\"1\" class=\"dataframe\">\n",
       "  <thead>\n",
       "    <tr style=\"text-align: right;\">\n",
       "      <th></th>\n",
       "      <th>Fecha</th>\n",
       "      <th>Cierre</th>\n",
       "      <th>Anio</th>\n",
       "    </tr>\n",
       "  </thead>\n",
       "  <tbody>\n",
       "    <tr>\n",
       "      <th>0</th>\n",
       "      <td>2004-05-01</td>\n",
       "      <td>221.0</td>\n",
       "      <td>2004</td>\n",
       "    </tr>\n",
       "    <tr>\n",
       "      <th>1</th>\n",
       "      <td>2004-06-01</td>\n",
       "      <td>221.0</td>\n",
       "      <td>2004</td>\n",
       "    </tr>\n",
       "    <tr>\n",
       "      <th>2</th>\n",
       "      <td>2004-07-01</td>\n",
       "      <td>219.0</td>\n",
       "      <td>2004</td>\n",
       "    </tr>\n",
       "    <tr>\n",
       "      <th>3</th>\n",
       "      <td>2004-08-01</td>\n",
       "      <td>220.0</td>\n",
       "      <td>2004</td>\n",
       "    </tr>\n",
       "    <tr>\n",
       "      <th>4</th>\n",
       "      <td>2004-09-01</td>\n",
       "      <td>220.0</td>\n",
       "      <td>2004</td>\n",
       "    </tr>\n",
       "    <tr>\n",
       "      <th>...</th>\n",
       "      <td>...</td>\n",
       "      <td>...</td>\n",
       "      <td>...</td>\n",
       "    </tr>\n",
       "    <tr>\n",
       "      <th>3870</th>\n",
       "      <td>2019-09-23</td>\n",
       "      <td>238.0</td>\n",
       "      <td>2019</td>\n",
       "    </tr>\n",
       "    <tr>\n",
       "      <th>3871</th>\n",
       "      <td>2019-09-24</td>\n",
       "      <td>238.0</td>\n",
       "      <td>2019</td>\n",
       "    </tr>\n",
       "    <tr>\n",
       "      <th>3872</th>\n",
       "      <td>2019-09-25</td>\n",
       "      <td>237.0</td>\n",
       "      <td>2019</td>\n",
       "    </tr>\n",
       "    <tr>\n",
       "      <th>3873</th>\n",
       "      <td>2019-09-26</td>\n",
       "      <td>236.0</td>\n",
       "      <td>2019</td>\n",
       "    </tr>\n",
       "    <tr>\n",
       "      <th>3874</th>\n",
       "      <td>2019-09-27</td>\n",
       "      <td>234.0</td>\n",
       "      <td>2019</td>\n",
       "    </tr>\n",
       "  </tbody>\n",
       "</table>\n",
       "<p>3875 rows × 3 columns</p>\n",
       "</div>"
      ],
      "text/plain": [
       "          Fecha  Cierre  Anio\n",
       "0    2004-05-01   221.0  2004\n",
       "1    2004-06-01   221.0  2004\n",
       "2    2004-07-01   219.0  2004\n",
       "3    2004-08-01   220.0  2004\n",
       "4    2004-09-01   220.0  2004\n",
       "...         ...     ...   ...\n",
       "3870 2019-09-23   238.0  2019\n",
       "3871 2019-09-24   238.0  2019\n",
       "3872 2019-09-25   237.0  2019\n",
       "3873 2019-09-26   236.0  2019\n",
       "3874 2019-09-27   234.0  2019\n",
       "\n",
       "[3875 rows x 3 columns]"
      ]
     },
     "execution_count": 6,
     "metadata": {},
     "output_type": "execute_result"
    }
   ],
   "source": [
    "short_soja"
   ]
  },
  {
   "cell_type": "code",
   "execution_count": 7,
   "metadata": {},
   "outputs": [],
   "source": [
    "means = short_soja.groupby(['Anio']).agg({'Cierre':'mean'})"
   ]
  },
  {
   "cell_type": "markdown",
   "metadata": {},
   "source": [
    "Modifico la paleta de colores de manera que cada intensidad corresponda al ranking de su media."
   ]
  },
  {
   "cell_type": "code",
   "execution_count": 8,
   "metadata": {},
   "outputs": [
    {
     "data": {
      "text/plain": [
       "array([ 2,  0,  1,  3, 11,  7,  9, 13, 15, 14, 12,  5,  8,  6, 10,  4])"
      ]
     },
     "execution_count": 8,
     "metadata": {},
     "output_type": "execute_result"
    }
   ],
   "source": [
    "sort = means.rank(method='min')\n",
    "sort = sort['Cierre'].astype(int).to_list()\n",
    "sort = np.array(sort)\n",
    "menos = sort - 1\n",
    "menos"
   ]
  },
  {
   "cell_type": "code",
   "execution_count": 9,
   "metadata": {},
   "outputs": [
    {
     "data": {
      "text/html": [
       "<svg  width=\"880\" height=\"55\"><rect x=\"0\" y=\"0\" width=\"55\" height=\"55\" style=\"fill:#ebf3ed;stroke-width:2;stroke:rgb(255,255,255)\"/><rect x=\"55\" y=\"0\" width=\"55\" height=\"55\" style=\"fill:#deece3;stroke-width:2;stroke:rgb(255,255,255)\"/><rect x=\"110\" y=\"0\" width=\"55\" height=\"55\" style=\"fill:#d2e5d9;stroke-width:2;stroke:rgb(255,255,255)\"/><rect x=\"165\" y=\"0\" width=\"55\" height=\"55\" style=\"fill:#c5decf;stroke-width:2;stroke:rgb(255,255,255)\"/><rect x=\"220\" y=\"0\" width=\"55\" height=\"55\" style=\"fill:#b9d7c5;stroke-width:2;stroke:rgb(255,255,255)\"/><rect x=\"275\" y=\"0\" width=\"55\" height=\"55\" style=\"fill:#acd0bb;stroke-width:2;stroke:rgb(255,255,255)\"/><rect x=\"330\" y=\"0\" width=\"55\" height=\"55\" style=\"fill:#9fc9b1;stroke-width:2;stroke:rgb(255,255,255)\"/><rect x=\"385\" y=\"0\" width=\"55\" height=\"55\" style=\"fill:#93c2a7;stroke-width:2;stroke:rgb(255,255,255)\"/><rect x=\"440\" y=\"0\" width=\"55\" height=\"55\" style=\"fill:#86bb9d;stroke-width:2;stroke:rgb(255,255,255)\"/><rect x=\"495\" y=\"0\" width=\"55\" height=\"55\" style=\"fill:#7ab493;stroke-width:2;stroke:rgb(255,255,255)\"/><rect x=\"550\" y=\"0\" width=\"55\" height=\"55\" style=\"fill:#6dae89;stroke-width:2;stroke:rgb(255,255,255)\"/><rect x=\"605\" y=\"0\" width=\"55\" height=\"55\" style=\"fill:#60a77f;stroke-width:2;stroke:rgb(255,255,255)\"/><rect x=\"660\" y=\"0\" width=\"55\" height=\"55\" style=\"fill:#54a075;stroke-width:2;stroke:rgb(255,255,255)\"/><rect x=\"715\" y=\"0\" width=\"55\" height=\"55\" style=\"fill:#47996b;stroke-width:2;stroke:rgb(255,255,255)\"/><rect x=\"770\" y=\"0\" width=\"55\" height=\"55\" style=\"fill:#3b9261;stroke-width:2;stroke:rgb(255,255,255)\"/><rect x=\"825\" y=\"0\" width=\"55\" height=\"55\" style=\"fill:#2e8b57;stroke-width:2;stroke:rgb(255,255,255)\"/></svg>"
      ],
      "text/plain": [
       "[(0.921460863132993, 0.9512120106378944, 0.9302557793948234),\n",
       " (0.8720562827149765, 0.9241377458764138, 0.8909838254743842),\n",
       " (0.8226517022969599, 0.8970634811149333, 0.851711871553945),\n",
       " (0.7732471218789434, 0.8699892163534527, 0.8124399176335058),\n",
       " (0.7238425414609269, 0.8429149515919723, 0.7731679637130666),\n",
       " (0.6744379610429104, 0.8158406868304917, 0.7338960097926274),\n",
       " (0.6250333806248938, 0.7887664220690112, 0.6946240558721881),\n",
       " (0.5756288002068773, 0.7616921573075306, 0.655352101951749),\n",
       " (0.5262242197888608, 0.73461789254605, 0.6160801480313097),\n",
       " (0.4768196393708443, 0.7075436277845695, 0.5768081941108705),\n",
       " (0.4274150589528278, 0.6804693630230889, 0.5375362401904313),\n",
       " (0.3780104785348113, 0.6533950982616084, 0.49826428626999214),\n",
       " (0.32860589811679464, 0.6263208335001278, 0.4589923323495529),\n",
       " (0.2792013176987782, 0.5992465687386472, 0.4197203784291137),\n",
       " (0.22979673728076166, 0.5721723039771668, 0.38044842450867455),\n",
       " (0.1803921568627451, 0.5450980392156862, 0.3411764705882353)]"
      ]
     },
     "execution_count": 9,
     "metadata": {},
     "output_type": "execute_result"
    }
   ],
   "source": [
    "colors = sns.light_palette(\"seagreen\",means.size,as_cmap=False)\n",
    "colors"
   ]
  },
  {
   "cell_type": "code",
   "execution_count": 10,
   "metadata": {},
   "outputs": [
    {
     "data": {
      "text/plain": [
       "[(0.8226517022969599, 0.8970634811149333, 0.851711871553945),\n",
       " (0.921460863132993, 0.9512120106378944, 0.9302557793948234),\n",
       " (0.8720562827149765, 0.9241377458764138, 0.8909838254743842),\n",
       " (0.7732471218789434, 0.8699892163534527, 0.8124399176335058),\n",
       " (0.3780104785348113, 0.6533950982616084, 0.49826428626999214),\n",
       " (0.5756288002068773, 0.7616921573075306, 0.655352101951749),\n",
       " (0.4768196393708443, 0.7075436277845695, 0.5768081941108705),\n",
       " (0.2792013176987782, 0.5992465687386472, 0.4197203784291137),\n",
       " (0.1803921568627451, 0.5450980392156862, 0.3411764705882353),\n",
       " (0.22979673728076166, 0.5721723039771668, 0.38044842450867455),\n",
       " (0.32860589811679464, 0.6263208335001278, 0.4589923323495529),\n",
       " (0.6744379610429104, 0.8158406868304917, 0.7338960097926274),\n",
       " (0.5262242197888608, 0.73461789254605, 0.6160801480313097),\n",
       " (0.6250333806248938, 0.7887664220690112, 0.6946240558721881),\n",
       " (0.4274150589528278, 0.6804693630230889, 0.5375362401904313),\n",
       " (0.7238425414609269, 0.8429149515919723, 0.7731679637130666)]"
      ]
     },
     "execution_count": 10,
     "metadata": {},
     "output_type": "execute_result"
    }
   ],
   "source": [
    "colores_acomodados = []\n",
    "for i in menos:\n",
    "    colores_acomodados.append(colors[i])\n",
    "\n",
    "colores_acomodados"
   ]
  },
  {
   "cell_type": "code",
   "execution_count": 37,
   "metadata": {
    "scrolled": true
   },
   "outputs": [
    {
     "data": {
      "text/plain": [
       "Text(0, 0.5, 'Cierre en $US [TON]')"
      ]
     },
     "execution_count": 37,
     "metadata": {},
     "output_type": "execute_result"
    },
    {
     "data": {
      "image/png": "[encoded data removed]",
      "text/plain": [
       "<Figure size 1170x827 with 1 Axes>"
      ]
     },
     "metadata": {},
     "output_type": "display_data"
    }
   ],
   "source": [
    "sns.set(rc={\"figure.dpi\":100,'figure.figsize':(11.7,8.27)})\n",
    "sns.light_palette(\"seagreen\", as_cmap=True)\n",
    "\n",
    "ax = sns.boxplot(x=\"Anio\", y=\"Cierre\",data=short_soja,palette=colores_acomodados)\n",
    "ax.set_title(\"Estadísticas sobre el cierre en la cotizacion de la soja por año\",fontdict={'fontsize':10})\n",
    "ax.set_xlabel(\"Año\")\n",
    "ax.set_ylabel(\"Cierre en $US [TON]\")"
   ]
  },
  {
   "cell_type": "markdown",
   "metadata": {},
   "source": [
    "### Segunda visualización"
   ]
  },
  {
   "cell_type": "code",
   "execution_count": 12,
   "metadata": {},
   "outputs": [
    {
     "data": {
      "text/plain": [
       "265.0    50\n",
       "230.0    46\n",
       "250.0    44\n",
       "169.0    41\n",
       "255.0    40\n",
       "         ..\n",
       "173.7     1\n",
       "303.9     1\n",
       "260.5     1\n",
       "287.5     1\n",
       "324.8     1\n",
       "Name: Cierre, Length: 590, dtype: int64"
      ]
     },
     "execution_count": 12,
     "metadata": {},
     "output_type": "execute_result"
    }
   ],
   "source": [
    "short_soja['Cierre'].value_counts()"
   ]
  },
  {
   "cell_type": "code",
   "execution_count": 13,
   "metadata": {},
   "outputs": [
    {
     "name": "stderr",
     "output_type": "stream",
     "text": [
      "<ipython-input-13-ff7b0c8d2376>:1: SettingWithCopyWarning: \n",
      "A value is trying to be set on a copy of a slice from a DataFrame.\n",
      "Try using .loc[row_indexer,col_indexer] = value instead\n",
      "\n",
      "See the caveats in the documentation: https://pandas.pydata.org/pandas-docs/stable/user_guide/indexing.html#returning-a-view-versus-a-copy\n",
      "  short_soja['Mes'] = short_soja['Fecha'].dt.month\n"
     ]
    }
   ],
   "source": [
    "short_soja['Mes'] = short_soja['Fecha'].dt.month"
   ]
  },
  {
   "cell_type": "code",
   "execution_count": 14,
   "metadata": {},
   "outputs": [
    {
     "data": {
      "text/html": [
       "<div>\n",
       "<style scoped>\n",
       "    .dataframe tbody tr th:only-of-type {\n",
       "        vertical-align: middle;\n",
       "    }\n",
       "\n",
       "    .dataframe tbody tr th {\n",
       "        vertical-align: top;\n",
       "    }\n",
       "\n",
       "    .dataframe thead th {\n",
       "        text-align: right;\n",
       "    }\n",
       "</style>\n",
       "<table border=\"1\" class=\"dataframe\">\n",
       "  <thead>\n",
       "    <tr style=\"text-align: right;\">\n",
       "      <th></th>\n",
       "      <th>Fecha</th>\n",
       "      <th>Cierre</th>\n",
       "      <th>Anio</th>\n",
       "      <th>Mes</th>\n",
       "    </tr>\n",
       "  </thead>\n",
       "  <tbody>\n",
       "    <tr>\n",
       "      <th>3694</th>\n",
       "      <td>2019-02-01</td>\n",
       "      <td>248.0</td>\n",
       "      <td>2019</td>\n",
       "      <td>2</td>\n",
       "    </tr>\n",
       "    <tr>\n",
       "      <th>3695</th>\n",
       "      <td>2019-03-01</td>\n",
       "      <td>248.0</td>\n",
       "      <td>2019</td>\n",
       "      <td>3</td>\n",
       "    </tr>\n",
       "    <tr>\n",
       "      <th>3696</th>\n",
       "      <td>2019-04-01</td>\n",
       "      <td>251.0</td>\n",
       "      <td>2019</td>\n",
       "      <td>4</td>\n",
       "    </tr>\n",
       "    <tr>\n",
       "      <th>3697</th>\n",
       "      <td>2019-07-01</td>\n",
       "      <td>252.0</td>\n",
       "      <td>2019</td>\n",
       "      <td>7</td>\n",
       "    </tr>\n",
       "    <tr>\n",
       "      <th>3698</th>\n",
       "      <td>2019-08-01</td>\n",
       "      <td>250.0</td>\n",
       "      <td>2019</td>\n",
       "      <td>8</td>\n",
       "    </tr>\n",
       "    <tr>\n",
       "      <th>...</th>\n",
       "      <td>...</td>\n",
       "      <td>...</td>\n",
       "      <td>...</td>\n",
       "      <td>...</td>\n",
       "    </tr>\n",
       "    <tr>\n",
       "      <th>3870</th>\n",
       "      <td>2019-09-23</td>\n",
       "      <td>238.0</td>\n",
       "      <td>2019</td>\n",
       "      <td>9</td>\n",
       "    </tr>\n",
       "    <tr>\n",
       "      <th>3871</th>\n",
       "      <td>2019-09-24</td>\n",
       "      <td>238.0</td>\n",
       "      <td>2019</td>\n",
       "      <td>9</td>\n",
       "    </tr>\n",
       "    <tr>\n",
       "      <th>3872</th>\n",
       "      <td>2019-09-25</td>\n",
       "      <td>237.0</td>\n",
       "      <td>2019</td>\n",
       "      <td>9</td>\n",
       "    </tr>\n",
       "    <tr>\n",
       "      <th>3873</th>\n",
       "      <td>2019-09-26</td>\n",
       "      <td>236.0</td>\n",
       "      <td>2019</td>\n",
       "      <td>9</td>\n",
       "    </tr>\n",
       "    <tr>\n",
       "      <th>3874</th>\n",
       "      <td>2019-09-27</td>\n",
       "      <td>234.0</td>\n",
       "      <td>2019</td>\n",
       "      <td>9</td>\n",
       "    </tr>\n",
       "  </tbody>\n",
       "</table>\n",
       "<p>181 rows × 4 columns</p>\n",
       "</div>"
      ],
      "text/plain": [
       "          Fecha  Cierre  Anio  Mes\n",
       "3694 2019-02-01   248.0  2019    2\n",
       "3695 2019-03-01   248.0  2019    3\n",
       "3696 2019-04-01   251.0  2019    4\n",
       "3697 2019-07-01   252.0  2019    7\n",
       "3698 2019-08-01   250.0  2019    8\n",
       "...         ...     ...   ...  ...\n",
       "3870 2019-09-23   238.0  2019    9\n",
       "3871 2019-09-24   238.0  2019    9\n",
       "3872 2019-09-25   237.0  2019    9\n",
       "3873 2019-09-26   236.0  2019    9\n",
       "3874 2019-09-27   234.0  2019    9\n",
       "\n",
       "[181 rows x 4 columns]"
      ]
     },
     "execution_count": 14,
     "metadata": {},
     "output_type": "execute_result"
    }
   ],
   "source": [
    "anio_2019_soja = short_soja.loc[short_soja.Anio == 2019]\n",
    "anio_2019_soja"
   ]
  },
  {
   "cell_type": "code",
   "execution_count": 15,
   "metadata": {},
   "outputs": [
    {
     "data": {
      "text/html": [
       "<div>\n",
       "<style scoped>\n",
       "    .dataframe tbody tr th:only-of-type {\n",
       "        vertical-align: middle;\n",
       "    }\n",
       "\n",
       "    .dataframe tbody tr th {\n",
       "        vertical-align: top;\n",
       "    }\n",
       "\n",
       "    .dataframe thead th {\n",
       "        text-align: right;\n",
       "    }\n",
       "</style>\n",
       "<table border=\"1\" class=\"dataframe\">\n",
       "  <thead>\n",
       "    <tr style=\"text-align: right;\">\n",
       "      <th></th>\n",
       "      <th>Cierre</th>\n",
       "    </tr>\n",
       "    <tr>\n",
       "      <th>Mes</th>\n",
       "      <th></th>\n",
       "    </tr>\n",
       "  </thead>\n",
       "  <tbody>\n",
       "    <tr>\n",
       "      <th>1</th>\n",
       "      <td>246.315789</td>\n",
       "    </tr>\n",
       "    <tr>\n",
       "      <th>2</th>\n",
       "      <td>236.411765</td>\n",
       "    </tr>\n",
       "    <tr>\n",
       "      <th>3</th>\n",
       "      <td>229.210526</td>\n",
       "    </tr>\n",
       "    <tr>\n",
       "      <th>4</th>\n",
       "      <td>222.875000</td>\n",
       "    </tr>\n",
       "    <tr>\n",
       "      <th>5</th>\n",
       "      <td>229.071429</td>\n",
       "    </tr>\n",
       "    <tr>\n",
       "      <th>6</th>\n",
       "      <td>230.500000</td>\n",
       "    </tr>\n",
       "    <tr>\n",
       "      <th>7</th>\n",
       "      <td>230.552632</td>\n",
       "    </tr>\n",
       "    <tr>\n",
       "      <th>8</th>\n",
       "      <td>239.083333</td>\n",
       "    </tr>\n",
       "    <tr>\n",
       "      <th>9</th>\n",
       "      <td>236.875000</td>\n",
       "    </tr>\n",
       "    <tr>\n",
       "      <th>10</th>\n",
       "      <td>228.666667</td>\n",
       "    </tr>\n",
       "    <tr>\n",
       "      <th>11</th>\n",
       "      <td>234.142857</td>\n",
       "    </tr>\n",
       "    <tr>\n",
       "      <th>12</th>\n",
       "      <td>233.571429</td>\n",
       "    </tr>\n",
       "  </tbody>\n",
       "</table>\n",
       "</div>"
      ],
      "text/plain": [
       "         Cierre\n",
       "Mes            \n",
       "1    246.315789\n",
       "2    236.411765\n",
       "3    229.210526\n",
       "4    222.875000\n",
       "5    229.071429\n",
       "6    230.500000\n",
       "7    230.552632\n",
       "8    239.083333\n",
       "9    236.875000\n",
       "10   228.666667\n",
       "11   234.142857\n",
       "12   233.571429"
      ]
     },
     "execution_count": 15,
     "metadata": {},
     "output_type": "execute_result"
    }
   ],
   "source": [
    "mes_soja_2019 = anio_2019_soja.groupby(['Mes']).agg({'Cierre':'mean'})\n",
    "mes_soja_2019"
   ]
  },
  {
   "cell_type": "code",
   "execution_count": 16,
   "metadata": {},
   "outputs": [
    {
     "data": {
      "text/plain": [
       "array([11,  8,  3,  0,  2,  4,  5, 10,  9,  1,  7,  6])"
      ]
     },
     "execution_count": 16,
     "metadata": {},
     "output_type": "execute_result"
    }
   ],
   "source": [
    "ranking_mes = mes_soja_2019.rank(method='min')\n",
    "ranking_mes = ranking_mes['Cierre'].astype(int).to_list()\n",
    "ranking_mes = np.array(ranking_mes)\n",
    "ranking_mes = ranking_mes - 1\n",
    "ranking_mes"
   ]
  },
  {
   "cell_type": "code",
   "execution_count": 17,
   "metadata": {},
   "outputs": [
    {
     "data": {
      "text/html": [
       "<svg  width=\"660\" height=\"55\"><rect x=\"0\" y=\"0\" width=\"55\" height=\"55\" style=\"fill:#feecda;stroke-width:2;stroke:rgb(255,255,255)\"/><rect x=\"55\" y=\"0\" width=\"55\" height=\"55\" style=\"fill:#fee1c4;stroke-width:2;stroke:rgb(255,255,255)\"/><rect x=\"110\" y=\"0\" width=\"55\" height=\"55\" style=\"fill:#fdd3a9;stroke-width:2;stroke:rgb(255,255,255)\"/><rect x=\"165\" y=\"0\" width=\"55\" height=\"55\" style=\"fill:#fdc189;stroke-width:2;stroke:rgb(255,255,255)\"/><rect x=\"220\" y=\"0\" width=\"55\" height=\"55\" style=\"fill:#fdac67;stroke-width:2;stroke:rgb(255,255,255)\"/><rect x=\"275\" y=\"0\" width=\"55\" height=\"55\" style=\"fill:#fd974a;stroke-width:2;stroke:rgb(255,255,255)\"/><rect x=\"330\" y=\"0\" width=\"55\" height=\"55\" style=\"fill:#f98230;stroke-width:2;stroke:rgb(255,255,255)\"/><rect x=\"385\" y=\"0\" width=\"55\" height=\"55\" style=\"fill:#f26c16;stroke-width:2;stroke:rgb(255,255,255)\"/><rect x=\"440\" y=\"0\" width=\"55\" height=\"55\" style=\"fill:#e45709;stroke-width:2;stroke:rgb(255,255,255)\"/><rect x=\"495\" y=\"0\" width=\"55\" height=\"55\" style=\"fill:#d14501;stroke-width:2;stroke:rgb(255,255,255)\"/><rect x=\"550\" y=\"0\" width=\"55\" height=\"55\" style=\"fill:#b13a03;stroke-width:2;stroke:rgb(255,255,255)\"/><rect x=\"605\" y=\"0\" width=\"55\" height=\"55\" style=\"fill:#963003;stroke-width:2;stroke:rgb(255,255,255)\"/></svg>"
      ],
      "text/plain": [
       "[(0.9976624375240293, 0.9257208765859285, 0.8537793156478277),\n",
       " (0.99520184544406, 0.8826758938869665, 0.7692733564013841),\n",
       " (0.9927412533640908, 0.8285428681276432, 0.6610073048827374),\n",
       " (0.9921568627450981, 0.756078431372549, 0.5388696655132641),\n",
       " (0.9921568627450981, 0.6727104959630912, 0.40587466359092667),\n",
       " (0.9921568627450981, 0.5915109573241062, 0.2902268358323722),\n",
       " (0.9781314878892734, 0.5108650519031142, 0.18737408688965784),\n",
       " (0.9486043829296424, 0.4222837370242214, 0.08648981161091887),\n",
       " (0.8930565167243367, 0.3402076124567474, 0.03547866205305651),\n",
       " (0.8211764705882354, 0.2718339100346021, 0.005090349865436363),\n",
       " (0.6956862745098039, 0.2275432525951557, 0.010011534025374854),\n",
       " (0.5892041522491349, 0.18800461361014995, 0.01334871203383314)]"
      ]
     },
     "execution_count": 17,
     "metadata": {},
     "output_type": "execute_result"
    }
   ],
   "source": [
    "orange_pallete = sns.color_palette(\"Oranges\",ranking_mes.size)\n",
    "orange_pallete"
   ]
  },
  {
   "cell_type": "code",
   "execution_count": 19,
   "metadata": {},
   "outputs": [
    {
     "data": {
      "text/plain": [
       "[(0.5892041522491349, 0.18800461361014995, 0.01334871203383314),\n",
       " (0.8930565167243367, 0.3402076124567474, 0.03547866205305651),\n",
       " (0.9921568627450981, 0.756078431372549, 0.5388696655132641),\n",
       " (0.9976624375240293, 0.9257208765859285, 0.8537793156478277),\n",
       " (0.9927412533640908, 0.8285428681276432, 0.6610073048827374),\n",
       " (0.9921568627450981, 0.6727104959630912, 0.40587466359092667),\n",
       " (0.9921568627450981, 0.5915109573241062, 0.2902268358323722),\n",
       " (0.6956862745098039, 0.2275432525951557, 0.010011534025374854),\n",
       " (0.8211764705882354, 0.2718339100346021, 0.005090349865436363),\n",
       " (0.99520184544406, 0.8826758938869665, 0.7692733564013841),\n",
       " (0.9486043829296424, 0.4222837370242214, 0.08648981161091887),\n",
       " (0.9781314878892734, 0.5108650519031142, 0.18737408688965784)]"
      ]
     },
     "execution_count": 19,
     "metadata": {},
     "output_type": "execute_result"
    }
   ],
   "source": [
    "orange_pallete_by_rank = []\n",
    "for i in ranking_mes:\n",
    "    orange_pallete_by_rank.append(orange_pallete[i])\n",
    "\n",
    "orange_pallete_by_rank"
   ]
  },
  {
   "cell_type": "code",
   "execution_count": 39,
   "metadata": {},
   "outputs": [
    {
     "data": {
      "text/plain": [
       "Text(0, 0.5, 'Cierre en $US [TON]')"
      ]
     },
     "execution_count": 39,
     "metadata": {},
     "output_type": "execute_result"
    },
    {
     "data": {
      "image/png": "[encoded data removed]",
      "text/plain": [
       "<Figure size 970x527 with 1 Axes>"
      ]
     },
     "metadata": {},
     "output_type": "display_data"
    }
   ],
   "source": [
    "sns.set(rc={\"figure.dpi\":100,'figure.figsize':(9.7,5.27)})\n",
    "ax = sns.violinplot(x=\"Mes\", y=\"Cierre\",data=anio_2019_soja,palette=orange_pallete_by_rank)\n",
    "ax.set_title(\"Estadísticas sobre el cierre en la cotizacion de la soja en 2019\",fontdict={'fontsize':10})\n",
    "ax.set_xlabel(\"Mes\")\n",
    "ax.set_ylabel(\"Cierre en $US [TON]\")"
   ]
  },
  {
   "cell_type": "code",
   "execution_count": null,
   "metadata": {},
   "outputs": [],
   "source": []
  }
 ],
 "metadata": {
  "kernelspec": {
   "display_name": "Python 3",
   "language": "python",
   "name": "python3"
  },
  "language_info": {
   "codemirror_mode": {
    "name": "ipython",
    "version": 3
   },
   "file_extension": ".py",
   "mimetype": "text/x-python",
   "name": "python",
   "nbconvert_exporter": "python",
   "pygments_lexer": "ipython3",
   "version": "3.8.3"
  }
 },
 "nbformat": 4,
 "nbformat_minor": 4
}
